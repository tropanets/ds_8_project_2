{
 "cells": [
  {
   "cell_type": "markdown",
   "metadata": {
    "toc": true
   },
   "source": [
    "<h1>Содержание<span class=\"tocSkip\"></span></h1>\n",
    "<div class=\"toc\"><ul class=\"toc-item\"><li><span><a href=\"#Подготовка-данных\" data-toc-modified-id=\"Подготовка-данных-1\"><span class=\"toc-item-num\">1&nbsp;&nbsp;</span>Подготовка данных</a></span></li><li><span><a href=\"#Анализ-данных\" data-toc-modified-id=\"Анализ-данных-2\"><span class=\"toc-item-num\">2&nbsp;&nbsp;</span>Анализ данных</a></span></li><li><span><a href=\"#Модель\" data-toc-modified-id=\"Модель-3\"><span class=\"toc-item-num\">3&nbsp;&nbsp;</span>Модель</a></span></li><li><span><a href=\"#Чек-лист-готовности-проекта\" data-toc-modified-id=\"Чек-лист-готовности-проекта-4\"><span class=\"toc-item-num\">4&nbsp;&nbsp;</span>Чек-лист готовности проекта</a></span></li></ul></div>"
   ]
  },
  {
   "cell_type": "markdown",
   "metadata": {},
   "source": [
    "# Восстановление золота из руды"
   ]
  },
  {
   "cell_type": "markdown",
   "metadata": {},
   "source": [
    "Подготовьте прототип модели машинного обучения для «Цифры». Компания разрабатывает решения для эффективной работы промышленных предприятий.\n",
    "\n",
    "Модель должна предсказать коэффициент восстановления золота из золотосодержащей руды. Используйте данные с параметрами добычи и очистки. \n",
    "\n",
    "Модель поможет оптимизировать производство, чтобы не запускать предприятие с убыточными характеристиками.\n",
    "\n",
    "Вам нужно:\n",
    "\n",
    "1. Подготовить данные;\n",
    "2. Провести исследовательский анализ данных;\n",
    "3. Построить и обучить модель.\n",
    "\n",
    "Чтобы выполнить проект, обращайтесь к библиотекам *pandas*, *matplotlib* и *sklearn.* Вам поможет их документация."
   ]
  },
  {
   "cell_type": "markdown",
   "metadata": {},
   "source": [
    "## Подготовка данных"
   ]
  },
  {
   "cell_type": "code",
   "execution_count": 1,
   "metadata": {},
   "outputs": [],
   "source": [
    "import pandas as pd\n",
    "import numpy as np\n",
    "import seaborn as sns\n",
    "import matplotlib.pyplot as plt\n",
    "\n",
    "from sklearn.model_selection import train_test_split, cross_val_score\n",
    "from sklearn.tree import DecisionTreeRegressor\n",
    "from sklearn.ensemble import RandomForestRegressor\n",
    "from sklearn.linear_model import LinearRegression\n",
    "from numpy.random import RandomState\n",
    "from sklearn.metrics import make_scorer, mean_absolute_error\n",
    "from sklearn.dummy import DummyRegressor"
   ]
  },
  {
   "cell_type": "markdown",
   "metadata": {},
   "source": [
    "Откроем файлы и изучим их\n",
    "\n",
    "- gold_recovery_train_new.csv — обучающая выборка;\n",
    "- gold_recovery_test_new.csv — тестовая выборка;\n",
    "- gold_recovery_full_new.csv — исходные данные."
   ]
  },
  {
   "cell_type": "code",
   "execution_count": 2,
   "metadata": {},
   "outputs": [],
   "source": [
    "train_df = pd.read_csv('/datasets/gold_recovery_train_new.csv')\n",
    "test_df = pd.read_csv('/datasets/gold_recovery_test_new.csv')\n",
    "full_df = pd.read_csv('/datasets/gold_recovery_full_new.csv')"
   ]
  },
  {
   "cell_type": "code",
   "execution_count": 3,
   "metadata": {},
   "outputs": [
    {
     "data": {
      "text/html": [
       "<div>\n",
       "<style scoped>\n",
       "    .dataframe tbody tr th:only-of-type {\n",
       "        vertical-align: middle;\n",
       "    }\n",
       "\n",
       "    .dataframe tbody tr th {\n",
       "        vertical-align: top;\n",
       "    }\n",
       "\n",
       "    .dataframe thead th {\n",
       "        text-align: right;\n",
       "    }\n",
       "</style>\n",
       "<table border=\"1\" class=\"dataframe\">\n",
       "  <thead>\n",
       "    <tr style=\"text-align: right;\">\n",
       "      <th></th>\n",
       "      <th>date</th>\n",
       "      <th>final.output.concentrate_ag</th>\n",
       "      <th>final.output.concentrate_pb</th>\n",
       "      <th>final.output.concentrate_sol</th>\n",
       "      <th>final.output.concentrate_au</th>\n",
       "      <th>final.output.recovery</th>\n",
       "      <th>final.output.tail_ag</th>\n",
       "      <th>final.output.tail_pb</th>\n",
       "      <th>final.output.tail_sol</th>\n",
       "      <th>final.output.tail_au</th>\n",
       "      <th>...</th>\n",
       "      <th>secondary_cleaner.state.floatbank4_a_air</th>\n",
       "      <th>secondary_cleaner.state.floatbank4_a_level</th>\n",
       "      <th>secondary_cleaner.state.floatbank4_b_air</th>\n",
       "      <th>secondary_cleaner.state.floatbank4_b_level</th>\n",
       "      <th>secondary_cleaner.state.floatbank5_a_air</th>\n",
       "      <th>secondary_cleaner.state.floatbank5_a_level</th>\n",
       "      <th>secondary_cleaner.state.floatbank5_b_air</th>\n",
       "      <th>secondary_cleaner.state.floatbank5_b_level</th>\n",
       "      <th>secondary_cleaner.state.floatbank6_a_air</th>\n",
       "      <th>secondary_cleaner.state.floatbank6_a_level</th>\n",
       "    </tr>\n",
       "  </thead>\n",
       "  <tbody>\n",
       "    <tr>\n",
       "      <th>0</th>\n",
       "      <td>2016-01-15 00:00:00</td>\n",
       "      <td>6.055403</td>\n",
       "      <td>9.889648</td>\n",
       "      <td>5.507324</td>\n",
       "      <td>42.192020</td>\n",
       "      <td>70.541216</td>\n",
       "      <td>10.411962</td>\n",
       "      <td>0.895447</td>\n",
       "      <td>16.904297</td>\n",
       "      <td>2.143149</td>\n",
       "      <td>...</td>\n",
       "      <td>14.016835</td>\n",
       "      <td>-502.488007</td>\n",
       "      <td>12.099931</td>\n",
       "      <td>-504.715942</td>\n",
       "      <td>9.925633</td>\n",
       "      <td>-498.310211</td>\n",
       "      <td>8.079666</td>\n",
       "      <td>-500.470978</td>\n",
       "      <td>14.151341</td>\n",
       "      <td>-605.841980</td>\n",
       "    </tr>\n",
       "    <tr>\n",
       "      <th>1</th>\n",
       "      <td>2016-01-15 01:00:00</td>\n",
       "      <td>6.029369</td>\n",
       "      <td>9.968944</td>\n",
       "      <td>5.257781</td>\n",
       "      <td>42.701629</td>\n",
       "      <td>69.266198</td>\n",
       "      <td>10.462676</td>\n",
       "      <td>0.927452</td>\n",
       "      <td>16.634514</td>\n",
       "      <td>2.224930</td>\n",
       "      <td>...</td>\n",
       "      <td>13.992281</td>\n",
       "      <td>-505.503262</td>\n",
       "      <td>11.950531</td>\n",
       "      <td>-501.331529</td>\n",
       "      <td>10.039245</td>\n",
       "      <td>-500.169983</td>\n",
       "      <td>7.984757</td>\n",
       "      <td>-500.582168</td>\n",
       "      <td>13.998353</td>\n",
       "      <td>-599.787184</td>\n",
       "    </tr>\n",
       "    <tr>\n",
       "      <th>2</th>\n",
       "      <td>2016-01-15 02:00:00</td>\n",
       "      <td>6.055926</td>\n",
       "      <td>10.213995</td>\n",
       "      <td>5.383759</td>\n",
       "      <td>42.657501</td>\n",
       "      <td>68.116445</td>\n",
       "      <td>10.507046</td>\n",
       "      <td>0.953716</td>\n",
       "      <td>16.208849</td>\n",
       "      <td>2.257889</td>\n",
       "      <td>...</td>\n",
       "      <td>14.015015</td>\n",
       "      <td>-502.520901</td>\n",
       "      <td>11.912783</td>\n",
       "      <td>-501.133383</td>\n",
       "      <td>10.070913</td>\n",
       "      <td>-500.129135</td>\n",
       "      <td>8.013877</td>\n",
       "      <td>-500.517572</td>\n",
       "      <td>14.028663</td>\n",
       "      <td>-601.427363</td>\n",
       "    </tr>\n",
       "    <tr>\n",
       "      <th>3</th>\n",
       "      <td>2016-01-15 03:00:00</td>\n",
       "      <td>6.047977</td>\n",
       "      <td>9.977019</td>\n",
       "      <td>4.858634</td>\n",
       "      <td>42.689819</td>\n",
       "      <td>68.347543</td>\n",
       "      <td>10.422762</td>\n",
       "      <td>0.883763</td>\n",
       "      <td>16.532835</td>\n",
       "      <td>2.146849</td>\n",
       "      <td>...</td>\n",
       "      <td>14.036510</td>\n",
       "      <td>-500.857308</td>\n",
       "      <td>11.999550</td>\n",
       "      <td>-501.193686</td>\n",
       "      <td>9.970366</td>\n",
       "      <td>-499.201640</td>\n",
       "      <td>7.977324</td>\n",
       "      <td>-500.255908</td>\n",
       "      <td>14.005551</td>\n",
       "      <td>-599.996129</td>\n",
       "    </tr>\n",
       "    <tr>\n",
       "      <th>4</th>\n",
       "      <td>2016-01-15 04:00:00</td>\n",
       "      <td>6.148599</td>\n",
       "      <td>10.142511</td>\n",
       "      <td>4.939416</td>\n",
       "      <td>42.774141</td>\n",
       "      <td>66.927016</td>\n",
       "      <td>10.360302</td>\n",
       "      <td>0.792826</td>\n",
       "      <td>16.525686</td>\n",
       "      <td>2.055292</td>\n",
       "      <td>...</td>\n",
       "      <td>14.027298</td>\n",
       "      <td>-499.838632</td>\n",
       "      <td>11.953070</td>\n",
       "      <td>-501.053894</td>\n",
       "      <td>9.925709</td>\n",
       "      <td>-501.686727</td>\n",
       "      <td>7.894242</td>\n",
       "      <td>-500.356035</td>\n",
       "      <td>13.996647</td>\n",
       "      <td>-601.496691</td>\n",
       "    </tr>\n",
       "  </tbody>\n",
       "</table>\n",
       "<p>5 rows × 87 columns</p>\n",
       "</div>"
      ],
      "text/plain": [
       "                  date  final.output.concentrate_ag  \\\n",
       "0  2016-01-15 00:00:00                     6.055403   \n",
       "1  2016-01-15 01:00:00                     6.029369   \n",
       "2  2016-01-15 02:00:00                     6.055926   \n",
       "3  2016-01-15 03:00:00                     6.047977   \n",
       "4  2016-01-15 04:00:00                     6.148599   \n",
       "\n",
       "   final.output.concentrate_pb  final.output.concentrate_sol  \\\n",
       "0                     9.889648                      5.507324   \n",
       "1                     9.968944                      5.257781   \n",
       "2                    10.213995                      5.383759   \n",
       "3                     9.977019                      4.858634   \n",
       "4                    10.142511                      4.939416   \n",
       "\n",
       "   final.output.concentrate_au  final.output.recovery  final.output.tail_ag  \\\n",
       "0                    42.192020              70.541216             10.411962   \n",
       "1                    42.701629              69.266198             10.462676   \n",
       "2                    42.657501              68.116445             10.507046   \n",
       "3                    42.689819              68.347543             10.422762   \n",
       "4                    42.774141              66.927016             10.360302   \n",
       "\n",
       "   final.output.tail_pb  final.output.tail_sol  final.output.tail_au  ...  \\\n",
       "0              0.895447              16.904297              2.143149  ...   \n",
       "1              0.927452              16.634514              2.224930  ...   \n",
       "2              0.953716              16.208849              2.257889  ...   \n",
       "3              0.883763              16.532835              2.146849  ...   \n",
       "4              0.792826              16.525686              2.055292  ...   \n",
       "\n",
       "   secondary_cleaner.state.floatbank4_a_air  \\\n",
       "0                                 14.016835   \n",
       "1                                 13.992281   \n",
       "2                                 14.015015   \n",
       "3                                 14.036510   \n",
       "4                                 14.027298   \n",
       "\n",
       "   secondary_cleaner.state.floatbank4_a_level  \\\n",
       "0                                 -502.488007   \n",
       "1                                 -505.503262   \n",
       "2                                 -502.520901   \n",
       "3                                 -500.857308   \n",
       "4                                 -499.838632   \n",
       "\n",
       "   secondary_cleaner.state.floatbank4_b_air  \\\n",
       "0                                 12.099931   \n",
       "1                                 11.950531   \n",
       "2                                 11.912783   \n",
       "3                                 11.999550   \n",
       "4                                 11.953070   \n",
       "\n",
       "   secondary_cleaner.state.floatbank4_b_level  \\\n",
       "0                                 -504.715942   \n",
       "1                                 -501.331529   \n",
       "2                                 -501.133383   \n",
       "3                                 -501.193686   \n",
       "4                                 -501.053894   \n",
       "\n",
       "   secondary_cleaner.state.floatbank5_a_air  \\\n",
       "0                                  9.925633   \n",
       "1                                 10.039245   \n",
       "2                                 10.070913   \n",
       "3                                  9.970366   \n",
       "4                                  9.925709   \n",
       "\n",
       "   secondary_cleaner.state.floatbank5_a_level  \\\n",
       "0                                 -498.310211   \n",
       "1                                 -500.169983   \n",
       "2                                 -500.129135   \n",
       "3                                 -499.201640   \n",
       "4                                 -501.686727   \n",
       "\n",
       "   secondary_cleaner.state.floatbank5_b_air  \\\n",
       "0                                  8.079666   \n",
       "1                                  7.984757   \n",
       "2                                  8.013877   \n",
       "3                                  7.977324   \n",
       "4                                  7.894242   \n",
       "\n",
       "   secondary_cleaner.state.floatbank5_b_level  \\\n",
       "0                                 -500.470978   \n",
       "1                                 -500.582168   \n",
       "2                                 -500.517572   \n",
       "3                                 -500.255908   \n",
       "4                                 -500.356035   \n",
       "\n",
       "   secondary_cleaner.state.floatbank6_a_air  \\\n",
       "0                                 14.151341   \n",
       "1                                 13.998353   \n",
       "2                                 14.028663   \n",
       "3                                 14.005551   \n",
       "4                                 13.996647   \n",
       "\n",
       "   secondary_cleaner.state.floatbank6_a_level  \n",
       "0                                 -605.841980  \n",
       "1                                 -599.787184  \n",
       "2                                 -601.427363  \n",
       "3                                 -599.996129  \n",
       "4                                 -601.496691  \n",
       "\n",
       "[5 rows x 87 columns]"
      ]
     },
     "execution_count": 3,
     "metadata": {},
     "output_type": "execute_result"
    }
   ],
   "source": [
    "train_df.head()"
   ]
  },
  {
   "cell_type": "code",
   "execution_count": 4,
   "metadata": {},
   "outputs": [
    {
     "name": "stdout",
     "output_type": "stream",
     "text": [
      "<class 'pandas.core.frame.DataFrame'>\n",
      "RangeIndex: 14149 entries, 0 to 14148\n",
      "Data columns (total 87 columns):\n",
      " #   Column                                              Non-Null Count  Dtype  \n",
      "---  ------                                              --------------  -----  \n",
      " 0   date                                                14149 non-null  object \n",
      " 1   final.output.concentrate_ag                         14148 non-null  float64\n",
      " 2   final.output.concentrate_pb                         14148 non-null  float64\n",
      " 3   final.output.concentrate_sol                        13938 non-null  float64\n",
      " 4   final.output.concentrate_au                         14149 non-null  float64\n",
      " 5   final.output.recovery                               14149 non-null  float64\n",
      " 6   final.output.tail_ag                                14149 non-null  float64\n",
      " 7   final.output.tail_pb                                14049 non-null  float64\n",
      " 8   final.output.tail_sol                               14144 non-null  float64\n",
      " 9   final.output.tail_au                                14149 non-null  float64\n",
      " 10  primary_cleaner.input.sulfate                       14129 non-null  float64\n",
      " 11  primary_cleaner.input.depressant                    14117 non-null  float64\n",
      " 12  primary_cleaner.input.feed_size                     14149 non-null  float64\n",
      " 13  primary_cleaner.input.xanthate                      14049 non-null  float64\n",
      " 14  primary_cleaner.output.concentrate_ag               14149 non-null  float64\n",
      " 15  primary_cleaner.output.concentrate_pb               14063 non-null  float64\n",
      " 16  primary_cleaner.output.concentrate_sol              13863 non-null  float64\n",
      " 17  primary_cleaner.output.concentrate_au               14149 non-null  float64\n",
      " 18  primary_cleaner.output.tail_ag                      14148 non-null  float64\n",
      " 19  primary_cleaner.output.tail_pb                      14134 non-null  float64\n",
      " 20  primary_cleaner.output.tail_sol                     14103 non-null  float64\n",
      " 21  primary_cleaner.output.tail_au                      14149 non-null  float64\n",
      " 22  primary_cleaner.state.floatbank8_a_air              14145 non-null  float64\n",
      " 23  primary_cleaner.state.floatbank8_a_level            14148 non-null  float64\n",
      " 24  primary_cleaner.state.floatbank8_b_air              14145 non-null  float64\n",
      " 25  primary_cleaner.state.floatbank8_b_level            14148 non-null  float64\n",
      " 26  primary_cleaner.state.floatbank8_c_air              14147 non-null  float64\n",
      " 27  primary_cleaner.state.floatbank8_c_level            14148 non-null  float64\n",
      " 28  primary_cleaner.state.floatbank8_d_air              14146 non-null  float64\n",
      " 29  primary_cleaner.state.floatbank8_d_level            14148 non-null  float64\n",
      " 30  rougher.calculation.sulfate_to_au_concentrate       14148 non-null  float64\n",
      " 31  rougher.calculation.floatbank10_sulfate_to_au_feed  14148 non-null  float64\n",
      " 32  rougher.calculation.floatbank11_sulfate_to_au_feed  14148 non-null  float64\n",
      " 33  rougher.calculation.au_pb_ratio                     14149 non-null  float64\n",
      " 34  rougher.input.feed_ag                               14149 non-null  float64\n",
      " 35  rougher.input.feed_pb                               14049 non-null  float64\n",
      " 36  rougher.input.feed_rate                             14141 non-null  float64\n",
      " 37  rougher.input.feed_size                             14005 non-null  float64\n",
      " 38  rougher.input.feed_sol                              14071 non-null  float64\n",
      " 39  rougher.input.feed_au                               14149 non-null  float64\n",
      " 40  rougher.input.floatbank10_sulfate                   14120 non-null  float64\n",
      " 41  rougher.input.floatbank10_xanthate                  14141 non-null  float64\n",
      " 42  rougher.input.floatbank11_sulfate                   14113 non-null  float64\n",
      " 43  rougher.input.floatbank11_xanthate                  13721 non-null  float64\n",
      " 44  rougher.output.concentrate_ag                       14149 non-null  float64\n",
      " 45  rougher.output.concentrate_pb                       14149 non-null  float64\n",
      " 46  rougher.output.concentrate_sol                      14127 non-null  float64\n",
      " 47  rougher.output.concentrate_au                       14149 non-null  float64\n",
      " 48  rougher.output.recovery                             14149 non-null  float64\n",
      " 49  rougher.output.tail_ag                              14148 non-null  float64\n",
      " 50  rougher.output.tail_pb                              14149 non-null  float64\n",
      " 51  rougher.output.tail_sol                             14149 non-null  float64\n",
      " 52  rougher.output.tail_au                              14149 non-null  float64\n",
      " 53  rougher.state.floatbank10_a_air                     14148 non-null  float64\n",
      " 54  rougher.state.floatbank10_a_level                   14148 non-null  float64\n",
      " 55  rougher.state.floatbank10_b_air                     14148 non-null  float64\n",
      " 56  rougher.state.floatbank10_b_level                   14148 non-null  float64\n",
      " 57  rougher.state.floatbank10_c_air                     14148 non-null  float64\n",
      " 58  rougher.state.floatbank10_c_level                   14148 non-null  float64\n",
      " 59  rougher.state.floatbank10_d_air                     14149 non-null  float64\n",
      " 60  rougher.state.floatbank10_d_level                   14149 non-null  float64\n",
      " 61  rougher.state.floatbank10_e_air                     13713 non-null  float64\n",
      " 62  rougher.state.floatbank10_e_level                   14149 non-null  float64\n",
      " 63  rougher.state.floatbank10_f_air                     14149 non-null  float64\n",
      " 64  rougher.state.floatbank10_f_level                   14149 non-null  float64\n",
      " 65  secondary_cleaner.output.tail_ag                    14147 non-null  float64\n",
      " 66  secondary_cleaner.output.tail_pb                    14139 non-null  float64\n",
      " 67  secondary_cleaner.output.tail_sol                   12544 non-null  float64\n",
      " 68  secondary_cleaner.output.tail_au                    14149 non-null  float64\n",
      " 69  secondary_cleaner.state.floatbank2_a_air            13932 non-null  float64\n",
      " 70  secondary_cleaner.state.floatbank2_a_level          14148 non-null  float64\n",
      " 71  secondary_cleaner.state.floatbank2_b_air            14128 non-null  float64\n",
      " 72  secondary_cleaner.state.floatbank2_b_level          14148 non-null  float64\n",
      " 73  secondary_cleaner.state.floatbank3_a_air            14145 non-null  float64\n",
      " 74  secondary_cleaner.state.floatbank3_a_level          14148 non-null  float64\n",
      " 75  secondary_cleaner.state.floatbank3_b_air            14148 non-null  float64\n",
      " 76  secondary_cleaner.state.floatbank3_b_level          14148 non-null  float64\n",
      " 77  secondary_cleaner.state.floatbank4_a_air            14143 non-null  float64\n",
      " 78  secondary_cleaner.state.floatbank4_a_level          14148 non-null  float64\n",
      " 79  secondary_cleaner.state.floatbank4_b_air            14148 non-null  float64\n",
      " 80  secondary_cleaner.state.floatbank4_b_level          14148 non-null  float64\n",
      " 81  secondary_cleaner.state.floatbank5_a_air            14148 non-null  float64\n",
      " 82  secondary_cleaner.state.floatbank5_a_level          14148 non-null  float64\n",
      " 83  secondary_cleaner.state.floatbank5_b_air            14148 non-null  float64\n",
      " 84  secondary_cleaner.state.floatbank5_b_level          14148 non-null  float64\n",
      " 85  secondary_cleaner.state.floatbank6_a_air            14147 non-null  float64\n",
      " 86  secondary_cleaner.state.floatbank6_a_level          14148 non-null  float64\n",
      "dtypes: float64(86), object(1)\n",
      "memory usage: 9.4+ MB\n"
     ]
    }
   ],
   "source": [
    "train_df.info()"
   ]
  },
  {
   "cell_type": "code",
   "execution_count": 5,
   "metadata": {},
   "outputs": [
    {
     "data": {
      "text/html": [
       "<div>\n",
       "<style scoped>\n",
       "    .dataframe tbody tr th:only-of-type {\n",
       "        vertical-align: middle;\n",
       "    }\n",
       "\n",
       "    .dataframe tbody tr th {\n",
       "        vertical-align: top;\n",
       "    }\n",
       "\n",
       "    .dataframe thead th {\n",
       "        text-align: right;\n",
       "    }\n",
       "</style>\n",
       "<table border=\"1\" class=\"dataframe\">\n",
       "  <thead>\n",
       "    <tr style=\"text-align: right;\">\n",
       "      <th></th>\n",
       "      <th>date</th>\n",
       "      <th>primary_cleaner.input.sulfate</th>\n",
       "      <th>primary_cleaner.input.depressant</th>\n",
       "      <th>primary_cleaner.input.feed_size</th>\n",
       "      <th>primary_cleaner.input.xanthate</th>\n",
       "      <th>primary_cleaner.state.floatbank8_a_air</th>\n",
       "      <th>primary_cleaner.state.floatbank8_a_level</th>\n",
       "      <th>primary_cleaner.state.floatbank8_b_air</th>\n",
       "      <th>primary_cleaner.state.floatbank8_b_level</th>\n",
       "      <th>primary_cleaner.state.floatbank8_c_air</th>\n",
       "      <th>...</th>\n",
       "      <th>secondary_cleaner.state.floatbank4_a_air</th>\n",
       "      <th>secondary_cleaner.state.floatbank4_a_level</th>\n",
       "      <th>secondary_cleaner.state.floatbank4_b_air</th>\n",
       "      <th>secondary_cleaner.state.floatbank4_b_level</th>\n",
       "      <th>secondary_cleaner.state.floatbank5_a_air</th>\n",
       "      <th>secondary_cleaner.state.floatbank5_a_level</th>\n",
       "      <th>secondary_cleaner.state.floatbank5_b_air</th>\n",
       "      <th>secondary_cleaner.state.floatbank5_b_level</th>\n",
       "      <th>secondary_cleaner.state.floatbank6_a_air</th>\n",
       "      <th>secondary_cleaner.state.floatbank6_a_level</th>\n",
       "    </tr>\n",
       "  </thead>\n",
       "  <tbody>\n",
       "    <tr>\n",
       "      <th>0</th>\n",
       "      <td>2016-09-01 00:59:59</td>\n",
       "      <td>210.800909</td>\n",
       "      <td>14.993118</td>\n",
       "      <td>8.080000</td>\n",
       "      <td>1.005021</td>\n",
       "      <td>1398.981301</td>\n",
       "      <td>-500.225577</td>\n",
       "      <td>1399.144926</td>\n",
       "      <td>-499.919735</td>\n",
       "      <td>1400.102998</td>\n",
       "      <td>...</td>\n",
       "      <td>12.023554</td>\n",
       "      <td>-497.795834</td>\n",
       "      <td>8.016656</td>\n",
       "      <td>-501.289139</td>\n",
       "      <td>7.946562</td>\n",
       "      <td>-432.317850</td>\n",
       "      <td>4.872511</td>\n",
       "      <td>-500.037437</td>\n",
       "      <td>26.705889</td>\n",
       "      <td>-499.709414</td>\n",
       "    </tr>\n",
       "    <tr>\n",
       "      <th>1</th>\n",
       "      <td>2016-09-01 01:59:59</td>\n",
       "      <td>215.392455</td>\n",
       "      <td>14.987471</td>\n",
       "      <td>8.080000</td>\n",
       "      <td>0.990469</td>\n",
       "      <td>1398.777912</td>\n",
       "      <td>-500.057435</td>\n",
       "      <td>1398.055362</td>\n",
       "      <td>-499.778182</td>\n",
       "      <td>1396.151033</td>\n",
       "      <td>...</td>\n",
       "      <td>12.058140</td>\n",
       "      <td>-498.695773</td>\n",
       "      <td>8.130979</td>\n",
       "      <td>-499.634209</td>\n",
       "      <td>7.958270</td>\n",
       "      <td>-525.839648</td>\n",
       "      <td>4.878850</td>\n",
       "      <td>-500.162375</td>\n",
       "      <td>25.019940</td>\n",
       "      <td>-499.819438</td>\n",
       "    </tr>\n",
       "    <tr>\n",
       "      <th>2</th>\n",
       "      <td>2016-09-01 02:59:59</td>\n",
       "      <td>215.259946</td>\n",
       "      <td>12.884934</td>\n",
       "      <td>7.786667</td>\n",
       "      <td>0.996043</td>\n",
       "      <td>1398.493666</td>\n",
       "      <td>-500.868360</td>\n",
       "      <td>1398.860436</td>\n",
       "      <td>-499.764529</td>\n",
       "      <td>1398.075709</td>\n",
       "      <td>...</td>\n",
       "      <td>11.962366</td>\n",
       "      <td>-498.767484</td>\n",
       "      <td>8.096893</td>\n",
       "      <td>-500.827423</td>\n",
       "      <td>8.071056</td>\n",
       "      <td>-500.801673</td>\n",
       "      <td>4.905125</td>\n",
       "      <td>-499.828510</td>\n",
       "      <td>24.994862</td>\n",
       "      <td>-500.622559</td>\n",
       "    </tr>\n",
       "    <tr>\n",
       "      <th>3</th>\n",
       "      <td>2016-09-01 03:59:59</td>\n",
       "      <td>215.336236</td>\n",
       "      <td>12.006805</td>\n",
       "      <td>7.640000</td>\n",
       "      <td>0.863514</td>\n",
       "      <td>1399.618111</td>\n",
       "      <td>-498.863574</td>\n",
       "      <td>1397.440120</td>\n",
       "      <td>-499.211024</td>\n",
       "      <td>1400.129303</td>\n",
       "      <td>...</td>\n",
       "      <td>12.033091</td>\n",
       "      <td>-498.350935</td>\n",
       "      <td>8.074946</td>\n",
       "      <td>-499.474407</td>\n",
       "      <td>7.897085</td>\n",
       "      <td>-500.868509</td>\n",
       "      <td>4.931400</td>\n",
       "      <td>-499.963623</td>\n",
       "      <td>24.948919</td>\n",
       "      <td>-498.709987</td>\n",
       "    </tr>\n",
       "    <tr>\n",
       "      <th>4</th>\n",
       "      <td>2016-09-01 04:59:59</td>\n",
       "      <td>199.099327</td>\n",
       "      <td>10.682530</td>\n",
       "      <td>7.530000</td>\n",
       "      <td>0.805575</td>\n",
       "      <td>1401.268123</td>\n",
       "      <td>-500.808305</td>\n",
       "      <td>1398.128818</td>\n",
       "      <td>-499.504543</td>\n",
       "      <td>1402.172226</td>\n",
       "      <td>...</td>\n",
       "      <td>12.025367</td>\n",
       "      <td>-500.786497</td>\n",
       "      <td>8.054678</td>\n",
       "      <td>-500.397500</td>\n",
       "      <td>8.107890</td>\n",
       "      <td>-509.526725</td>\n",
       "      <td>4.957674</td>\n",
       "      <td>-500.360026</td>\n",
       "      <td>25.003331</td>\n",
       "      <td>-500.856333</td>\n",
       "    </tr>\n",
       "  </tbody>\n",
       "</table>\n",
       "<p>5 rows × 53 columns</p>\n",
       "</div>"
      ],
      "text/plain": [
       "                  date  primary_cleaner.input.sulfate  \\\n",
       "0  2016-09-01 00:59:59                     210.800909   \n",
       "1  2016-09-01 01:59:59                     215.392455   \n",
       "2  2016-09-01 02:59:59                     215.259946   \n",
       "3  2016-09-01 03:59:59                     215.336236   \n",
       "4  2016-09-01 04:59:59                     199.099327   \n",
       "\n",
       "   primary_cleaner.input.depressant  primary_cleaner.input.feed_size  \\\n",
       "0                         14.993118                         8.080000   \n",
       "1                         14.987471                         8.080000   \n",
       "2                         12.884934                         7.786667   \n",
       "3                         12.006805                         7.640000   \n",
       "4                         10.682530                         7.530000   \n",
       "\n",
       "   primary_cleaner.input.xanthate  primary_cleaner.state.floatbank8_a_air  \\\n",
       "0                        1.005021                             1398.981301   \n",
       "1                        0.990469                             1398.777912   \n",
       "2                        0.996043                             1398.493666   \n",
       "3                        0.863514                             1399.618111   \n",
       "4                        0.805575                             1401.268123   \n",
       "\n",
       "   primary_cleaner.state.floatbank8_a_level  \\\n",
       "0                               -500.225577   \n",
       "1                               -500.057435   \n",
       "2                               -500.868360   \n",
       "3                               -498.863574   \n",
       "4                               -500.808305   \n",
       "\n",
       "   primary_cleaner.state.floatbank8_b_air  \\\n",
       "0                             1399.144926   \n",
       "1                             1398.055362   \n",
       "2                             1398.860436   \n",
       "3                             1397.440120   \n",
       "4                             1398.128818   \n",
       "\n",
       "   primary_cleaner.state.floatbank8_b_level  \\\n",
       "0                               -499.919735   \n",
       "1                               -499.778182   \n",
       "2                               -499.764529   \n",
       "3                               -499.211024   \n",
       "4                               -499.504543   \n",
       "\n",
       "   primary_cleaner.state.floatbank8_c_air  ...  \\\n",
       "0                             1400.102998  ...   \n",
       "1                             1396.151033  ...   \n",
       "2                             1398.075709  ...   \n",
       "3                             1400.129303  ...   \n",
       "4                             1402.172226  ...   \n",
       "\n",
       "   secondary_cleaner.state.floatbank4_a_air  \\\n",
       "0                                 12.023554   \n",
       "1                                 12.058140   \n",
       "2                                 11.962366   \n",
       "3                                 12.033091   \n",
       "4                                 12.025367   \n",
       "\n",
       "   secondary_cleaner.state.floatbank4_a_level  \\\n",
       "0                                 -497.795834   \n",
       "1                                 -498.695773   \n",
       "2                                 -498.767484   \n",
       "3                                 -498.350935   \n",
       "4                                 -500.786497   \n",
       "\n",
       "   secondary_cleaner.state.floatbank4_b_air  \\\n",
       "0                                  8.016656   \n",
       "1                                  8.130979   \n",
       "2                                  8.096893   \n",
       "3                                  8.074946   \n",
       "4                                  8.054678   \n",
       "\n",
       "   secondary_cleaner.state.floatbank4_b_level  \\\n",
       "0                                 -501.289139   \n",
       "1                                 -499.634209   \n",
       "2                                 -500.827423   \n",
       "3                                 -499.474407   \n",
       "4                                 -500.397500   \n",
       "\n",
       "   secondary_cleaner.state.floatbank5_a_air  \\\n",
       "0                                  7.946562   \n",
       "1                                  7.958270   \n",
       "2                                  8.071056   \n",
       "3                                  7.897085   \n",
       "4                                  8.107890   \n",
       "\n",
       "   secondary_cleaner.state.floatbank5_a_level  \\\n",
       "0                                 -432.317850   \n",
       "1                                 -525.839648   \n",
       "2                                 -500.801673   \n",
       "3                                 -500.868509   \n",
       "4                                 -509.526725   \n",
       "\n",
       "   secondary_cleaner.state.floatbank5_b_air  \\\n",
       "0                                  4.872511   \n",
       "1                                  4.878850   \n",
       "2                                  4.905125   \n",
       "3                                  4.931400   \n",
       "4                                  4.957674   \n",
       "\n",
       "   secondary_cleaner.state.floatbank5_b_level  \\\n",
       "0                                 -500.037437   \n",
       "1                                 -500.162375   \n",
       "2                                 -499.828510   \n",
       "3                                 -499.963623   \n",
       "4                                 -500.360026   \n",
       "\n",
       "   secondary_cleaner.state.floatbank6_a_air  \\\n",
       "0                                 26.705889   \n",
       "1                                 25.019940   \n",
       "2                                 24.994862   \n",
       "3                                 24.948919   \n",
       "4                                 25.003331   \n",
       "\n",
       "   secondary_cleaner.state.floatbank6_a_level  \n",
       "0                                 -499.709414  \n",
       "1                                 -499.819438  \n",
       "2                                 -500.622559  \n",
       "3                                 -498.709987  \n",
       "4                                 -500.856333  \n",
       "\n",
       "[5 rows x 53 columns]"
      ]
     },
     "execution_count": 5,
     "metadata": {},
     "output_type": "execute_result"
    }
   ],
   "source": [
    "test_df.head()"
   ]
  },
  {
   "cell_type": "code",
   "execution_count": 6,
   "metadata": {},
   "outputs": [
    {
     "name": "stdout",
     "output_type": "stream",
     "text": [
      "<class 'pandas.core.frame.DataFrame'>\n",
      "RangeIndex: 5290 entries, 0 to 5289\n",
      "Data columns (total 53 columns):\n",
      " #   Column                                      Non-Null Count  Dtype  \n",
      "---  ------                                      --------------  -----  \n",
      " 0   date                                        5290 non-null   object \n",
      " 1   primary_cleaner.input.sulfate               5286 non-null   float64\n",
      " 2   primary_cleaner.input.depressant            5285 non-null   float64\n",
      " 3   primary_cleaner.input.feed_size             5290 non-null   float64\n",
      " 4   primary_cleaner.input.xanthate              5286 non-null   float64\n",
      " 5   primary_cleaner.state.floatbank8_a_air      5290 non-null   float64\n",
      " 6   primary_cleaner.state.floatbank8_a_level    5290 non-null   float64\n",
      " 7   primary_cleaner.state.floatbank8_b_air      5290 non-null   float64\n",
      " 8   primary_cleaner.state.floatbank8_b_level    5290 non-null   float64\n",
      " 9   primary_cleaner.state.floatbank8_c_air      5290 non-null   float64\n",
      " 10  primary_cleaner.state.floatbank8_c_level    5290 non-null   float64\n",
      " 11  primary_cleaner.state.floatbank8_d_air      5290 non-null   float64\n",
      " 12  primary_cleaner.state.floatbank8_d_level    5290 non-null   float64\n",
      " 13  rougher.input.feed_ag                       5290 non-null   float64\n",
      " 14  rougher.input.feed_pb                       5290 non-null   float64\n",
      " 15  rougher.input.feed_rate                     5287 non-null   float64\n",
      " 16  rougher.input.feed_size                     5289 non-null   float64\n",
      " 17  rougher.input.feed_sol                      5269 non-null   float64\n",
      " 18  rougher.input.feed_au                       5290 non-null   float64\n",
      " 19  rougher.input.floatbank10_sulfate           5285 non-null   float64\n",
      " 20  rougher.input.floatbank10_xanthate          5290 non-null   float64\n",
      " 21  rougher.input.floatbank11_sulfate           5282 non-null   float64\n",
      " 22  rougher.input.floatbank11_xanthate          5265 non-null   float64\n",
      " 23  rougher.state.floatbank10_a_air             5290 non-null   float64\n",
      " 24  rougher.state.floatbank10_a_level           5290 non-null   float64\n",
      " 25  rougher.state.floatbank10_b_air             5290 non-null   float64\n",
      " 26  rougher.state.floatbank10_b_level           5290 non-null   float64\n",
      " 27  rougher.state.floatbank10_c_air             5290 non-null   float64\n",
      " 28  rougher.state.floatbank10_c_level           5290 non-null   float64\n",
      " 29  rougher.state.floatbank10_d_air             5290 non-null   float64\n",
      " 30  rougher.state.floatbank10_d_level           5290 non-null   float64\n",
      " 31  rougher.state.floatbank10_e_air             5290 non-null   float64\n",
      " 32  rougher.state.floatbank10_e_level           5290 non-null   float64\n",
      " 33  rougher.state.floatbank10_f_air             5290 non-null   float64\n",
      " 34  rougher.state.floatbank10_f_level           5290 non-null   float64\n",
      " 35  secondary_cleaner.state.floatbank2_a_air    5287 non-null   float64\n",
      " 36  secondary_cleaner.state.floatbank2_a_level  5290 non-null   float64\n",
      " 37  secondary_cleaner.state.floatbank2_b_air    5288 non-null   float64\n",
      " 38  secondary_cleaner.state.floatbank2_b_level  5290 non-null   float64\n",
      " 39  secondary_cleaner.state.floatbank3_a_air    5281 non-null   float64\n",
      " 40  secondary_cleaner.state.floatbank3_a_level  5290 non-null   float64\n",
      " 41  secondary_cleaner.state.floatbank3_b_air    5290 non-null   float64\n",
      " 42  secondary_cleaner.state.floatbank3_b_level  5290 non-null   float64\n",
      " 43  secondary_cleaner.state.floatbank4_a_air    5290 non-null   float64\n",
      " 44  secondary_cleaner.state.floatbank4_a_level  5290 non-null   float64\n",
      " 45  secondary_cleaner.state.floatbank4_b_air    5290 non-null   float64\n",
      " 46  secondary_cleaner.state.floatbank4_b_level  5290 non-null   float64\n",
      " 47  secondary_cleaner.state.floatbank5_a_air    5290 non-null   float64\n",
      " 48  secondary_cleaner.state.floatbank5_a_level  5290 non-null   float64\n",
      " 49  secondary_cleaner.state.floatbank5_b_air    5290 non-null   float64\n",
      " 50  secondary_cleaner.state.floatbank5_b_level  5290 non-null   float64\n",
      " 51  secondary_cleaner.state.floatbank6_a_air    5290 non-null   float64\n",
      " 52  secondary_cleaner.state.floatbank6_a_level  5290 non-null   float64\n",
      "dtypes: float64(52), object(1)\n",
      "memory usage: 2.1+ MB\n"
     ]
    }
   ],
   "source": [
    "test_df.info()"
   ]
  },
  {
   "cell_type": "code",
   "execution_count": 7,
   "metadata": {},
   "outputs": [
    {
     "data": {
      "text/html": [
       "<div>\n",
       "<style scoped>\n",
       "    .dataframe tbody tr th:only-of-type {\n",
       "        vertical-align: middle;\n",
       "    }\n",
       "\n",
       "    .dataframe tbody tr th {\n",
       "        vertical-align: top;\n",
       "    }\n",
       "\n",
       "    .dataframe thead th {\n",
       "        text-align: right;\n",
       "    }\n",
       "</style>\n",
       "<table border=\"1\" class=\"dataframe\">\n",
       "  <thead>\n",
       "    <tr style=\"text-align: right;\">\n",
       "      <th></th>\n",
       "      <th>date</th>\n",
       "      <th>final.output.concentrate_ag</th>\n",
       "      <th>final.output.concentrate_pb</th>\n",
       "      <th>final.output.concentrate_sol</th>\n",
       "      <th>final.output.concentrate_au</th>\n",
       "      <th>final.output.recovery</th>\n",
       "      <th>final.output.tail_ag</th>\n",
       "      <th>final.output.tail_pb</th>\n",
       "      <th>final.output.tail_sol</th>\n",
       "      <th>final.output.tail_au</th>\n",
       "      <th>...</th>\n",
       "      <th>secondary_cleaner.state.floatbank4_a_air</th>\n",
       "      <th>secondary_cleaner.state.floatbank4_a_level</th>\n",
       "      <th>secondary_cleaner.state.floatbank4_b_air</th>\n",
       "      <th>secondary_cleaner.state.floatbank4_b_level</th>\n",
       "      <th>secondary_cleaner.state.floatbank5_a_air</th>\n",
       "      <th>secondary_cleaner.state.floatbank5_a_level</th>\n",
       "      <th>secondary_cleaner.state.floatbank5_b_air</th>\n",
       "      <th>secondary_cleaner.state.floatbank5_b_level</th>\n",
       "      <th>secondary_cleaner.state.floatbank6_a_air</th>\n",
       "      <th>secondary_cleaner.state.floatbank6_a_level</th>\n",
       "    </tr>\n",
       "  </thead>\n",
       "  <tbody>\n",
       "    <tr>\n",
       "      <th>0</th>\n",
       "      <td>2016-01-15 00:00:00</td>\n",
       "      <td>6.055403</td>\n",
       "      <td>9.889648</td>\n",
       "      <td>5.507324</td>\n",
       "      <td>42.192020</td>\n",
       "      <td>70.541216</td>\n",
       "      <td>10.411962</td>\n",
       "      <td>0.895447</td>\n",
       "      <td>16.904297</td>\n",
       "      <td>2.143149</td>\n",
       "      <td>...</td>\n",
       "      <td>14.016835</td>\n",
       "      <td>-502.488007</td>\n",
       "      <td>12.099931</td>\n",
       "      <td>-504.715942</td>\n",
       "      <td>9.925633</td>\n",
       "      <td>-498.310211</td>\n",
       "      <td>8.079666</td>\n",
       "      <td>-500.470978</td>\n",
       "      <td>14.151341</td>\n",
       "      <td>-605.841980</td>\n",
       "    </tr>\n",
       "    <tr>\n",
       "      <th>1</th>\n",
       "      <td>2016-01-15 01:00:00</td>\n",
       "      <td>6.029369</td>\n",
       "      <td>9.968944</td>\n",
       "      <td>5.257781</td>\n",
       "      <td>42.701629</td>\n",
       "      <td>69.266198</td>\n",
       "      <td>10.462676</td>\n",
       "      <td>0.927452</td>\n",
       "      <td>16.634514</td>\n",
       "      <td>2.224930</td>\n",
       "      <td>...</td>\n",
       "      <td>13.992281</td>\n",
       "      <td>-505.503262</td>\n",
       "      <td>11.950531</td>\n",
       "      <td>-501.331529</td>\n",
       "      <td>10.039245</td>\n",
       "      <td>-500.169983</td>\n",
       "      <td>7.984757</td>\n",
       "      <td>-500.582168</td>\n",
       "      <td>13.998353</td>\n",
       "      <td>-599.787184</td>\n",
       "    </tr>\n",
       "    <tr>\n",
       "      <th>2</th>\n",
       "      <td>2016-01-15 02:00:00</td>\n",
       "      <td>6.055926</td>\n",
       "      <td>10.213995</td>\n",
       "      <td>5.383759</td>\n",
       "      <td>42.657501</td>\n",
       "      <td>68.116445</td>\n",
       "      <td>10.507046</td>\n",
       "      <td>0.953716</td>\n",
       "      <td>16.208849</td>\n",
       "      <td>2.257889</td>\n",
       "      <td>...</td>\n",
       "      <td>14.015015</td>\n",
       "      <td>-502.520901</td>\n",
       "      <td>11.912783</td>\n",
       "      <td>-501.133383</td>\n",
       "      <td>10.070913</td>\n",
       "      <td>-500.129135</td>\n",
       "      <td>8.013877</td>\n",
       "      <td>-500.517572</td>\n",
       "      <td>14.028663</td>\n",
       "      <td>-601.427363</td>\n",
       "    </tr>\n",
       "    <tr>\n",
       "      <th>3</th>\n",
       "      <td>2016-01-15 03:00:00</td>\n",
       "      <td>6.047977</td>\n",
       "      <td>9.977019</td>\n",
       "      <td>4.858634</td>\n",
       "      <td>42.689819</td>\n",
       "      <td>68.347543</td>\n",
       "      <td>10.422762</td>\n",
       "      <td>0.883763</td>\n",
       "      <td>16.532835</td>\n",
       "      <td>2.146849</td>\n",
       "      <td>...</td>\n",
       "      <td>14.036510</td>\n",
       "      <td>-500.857308</td>\n",
       "      <td>11.999550</td>\n",
       "      <td>-501.193686</td>\n",
       "      <td>9.970366</td>\n",
       "      <td>-499.201640</td>\n",
       "      <td>7.977324</td>\n",
       "      <td>-500.255908</td>\n",
       "      <td>14.005551</td>\n",
       "      <td>-599.996129</td>\n",
       "    </tr>\n",
       "    <tr>\n",
       "      <th>4</th>\n",
       "      <td>2016-01-15 04:00:00</td>\n",
       "      <td>6.148599</td>\n",
       "      <td>10.142511</td>\n",
       "      <td>4.939416</td>\n",
       "      <td>42.774141</td>\n",
       "      <td>66.927016</td>\n",
       "      <td>10.360302</td>\n",
       "      <td>0.792826</td>\n",
       "      <td>16.525686</td>\n",
       "      <td>2.055292</td>\n",
       "      <td>...</td>\n",
       "      <td>14.027298</td>\n",
       "      <td>-499.838632</td>\n",
       "      <td>11.953070</td>\n",
       "      <td>-501.053894</td>\n",
       "      <td>9.925709</td>\n",
       "      <td>-501.686727</td>\n",
       "      <td>7.894242</td>\n",
       "      <td>-500.356035</td>\n",
       "      <td>13.996647</td>\n",
       "      <td>-601.496691</td>\n",
       "    </tr>\n",
       "  </tbody>\n",
       "</table>\n",
       "<p>5 rows × 87 columns</p>\n",
       "</div>"
      ],
      "text/plain": [
       "                  date  final.output.concentrate_ag  \\\n",
       "0  2016-01-15 00:00:00                     6.055403   \n",
       "1  2016-01-15 01:00:00                     6.029369   \n",
       "2  2016-01-15 02:00:00                     6.055926   \n",
       "3  2016-01-15 03:00:00                     6.047977   \n",
       "4  2016-01-15 04:00:00                     6.148599   \n",
       "\n",
       "   final.output.concentrate_pb  final.output.concentrate_sol  \\\n",
       "0                     9.889648                      5.507324   \n",
       "1                     9.968944                      5.257781   \n",
       "2                    10.213995                      5.383759   \n",
       "3                     9.977019                      4.858634   \n",
       "4                    10.142511                      4.939416   \n",
       "\n",
       "   final.output.concentrate_au  final.output.recovery  final.output.tail_ag  \\\n",
       "0                    42.192020              70.541216             10.411962   \n",
       "1                    42.701629              69.266198             10.462676   \n",
       "2                    42.657501              68.116445             10.507046   \n",
       "3                    42.689819              68.347543             10.422762   \n",
       "4                    42.774141              66.927016             10.360302   \n",
       "\n",
       "   final.output.tail_pb  final.output.tail_sol  final.output.tail_au  ...  \\\n",
       "0              0.895447              16.904297              2.143149  ...   \n",
       "1              0.927452              16.634514              2.224930  ...   \n",
       "2              0.953716              16.208849              2.257889  ...   \n",
       "3              0.883763              16.532835              2.146849  ...   \n",
       "4              0.792826              16.525686              2.055292  ...   \n",
       "\n",
       "   secondary_cleaner.state.floatbank4_a_air  \\\n",
       "0                                 14.016835   \n",
       "1                                 13.992281   \n",
       "2                                 14.015015   \n",
       "3                                 14.036510   \n",
       "4                                 14.027298   \n",
       "\n",
       "   secondary_cleaner.state.floatbank4_a_level  \\\n",
       "0                                 -502.488007   \n",
       "1                                 -505.503262   \n",
       "2                                 -502.520901   \n",
       "3                                 -500.857308   \n",
       "4                                 -499.838632   \n",
       "\n",
       "   secondary_cleaner.state.floatbank4_b_air  \\\n",
       "0                                 12.099931   \n",
       "1                                 11.950531   \n",
       "2                                 11.912783   \n",
       "3                                 11.999550   \n",
       "4                                 11.953070   \n",
       "\n",
       "   secondary_cleaner.state.floatbank4_b_level  \\\n",
       "0                                 -504.715942   \n",
       "1                                 -501.331529   \n",
       "2                                 -501.133383   \n",
       "3                                 -501.193686   \n",
       "4                                 -501.053894   \n",
       "\n",
       "   secondary_cleaner.state.floatbank5_a_air  \\\n",
       "0                                  9.925633   \n",
       "1                                 10.039245   \n",
       "2                                 10.070913   \n",
       "3                                  9.970366   \n",
       "4                                  9.925709   \n",
       "\n",
       "   secondary_cleaner.state.floatbank5_a_level  \\\n",
       "0                                 -498.310211   \n",
       "1                                 -500.169983   \n",
       "2                                 -500.129135   \n",
       "3                                 -499.201640   \n",
       "4                                 -501.686727   \n",
       "\n",
       "   secondary_cleaner.state.floatbank5_b_air  \\\n",
       "0                                  8.079666   \n",
       "1                                  7.984757   \n",
       "2                                  8.013877   \n",
       "3                                  7.977324   \n",
       "4                                  7.894242   \n",
       "\n",
       "   secondary_cleaner.state.floatbank5_b_level  \\\n",
       "0                                 -500.470978   \n",
       "1                                 -500.582168   \n",
       "2                                 -500.517572   \n",
       "3                                 -500.255908   \n",
       "4                                 -500.356035   \n",
       "\n",
       "   secondary_cleaner.state.floatbank6_a_air  \\\n",
       "0                                 14.151341   \n",
       "1                                 13.998353   \n",
       "2                                 14.028663   \n",
       "3                                 14.005551   \n",
       "4                                 13.996647   \n",
       "\n",
       "   secondary_cleaner.state.floatbank6_a_level  \n",
       "0                                 -605.841980  \n",
       "1                                 -599.787184  \n",
       "2                                 -601.427363  \n",
       "3                                 -599.996129  \n",
       "4                                 -601.496691  \n",
       "\n",
       "[5 rows x 87 columns]"
      ]
     },
     "execution_count": 7,
     "metadata": {},
     "output_type": "execute_result"
    }
   ],
   "source": [
    "full_df.head()"
   ]
  },
  {
   "cell_type": "code",
   "execution_count": 8,
   "metadata": {},
   "outputs": [
    {
     "name": "stdout",
     "output_type": "stream",
     "text": [
      "<class 'pandas.core.frame.DataFrame'>\n",
      "RangeIndex: 19439 entries, 0 to 19438\n",
      "Data columns (total 87 columns):\n",
      " #   Column                                              Non-Null Count  Dtype  \n",
      "---  ------                                              --------------  -----  \n",
      " 0   date                                                19439 non-null  object \n",
      " 1   final.output.concentrate_ag                         19438 non-null  float64\n",
      " 2   final.output.concentrate_pb                         19438 non-null  float64\n",
      " 3   final.output.concentrate_sol                        19228 non-null  float64\n",
      " 4   final.output.concentrate_au                         19439 non-null  float64\n",
      " 5   final.output.recovery                               19439 non-null  float64\n",
      " 6   final.output.tail_ag                                19438 non-null  float64\n",
      " 7   final.output.tail_pb                                19338 non-null  float64\n",
      " 8   final.output.tail_sol                               19433 non-null  float64\n",
      " 9   final.output.tail_au                                19439 non-null  float64\n",
      " 10  primary_cleaner.input.sulfate                       19415 non-null  float64\n",
      " 11  primary_cleaner.input.depressant                    19402 non-null  float64\n",
      " 12  primary_cleaner.input.feed_size                     19439 non-null  float64\n",
      " 13  primary_cleaner.input.xanthate                      19335 non-null  float64\n",
      " 14  primary_cleaner.output.concentrate_ag               19439 non-null  float64\n",
      " 15  primary_cleaner.output.concentrate_pb               19323 non-null  float64\n",
      " 16  primary_cleaner.output.concentrate_sol              19069 non-null  float64\n",
      " 17  primary_cleaner.output.concentrate_au               19439 non-null  float64\n",
      " 18  primary_cleaner.output.tail_ag                      19435 non-null  float64\n",
      " 19  primary_cleaner.output.tail_pb                      19418 non-null  float64\n",
      " 20  primary_cleaner.output.tail_sol                     19377 non-null  float64\n",
      " 21  primary_cleaner.output.tail_au                      19439 non-null  float64\n",
      " 22  primary_cleaner.state.floatbank8_a_air              19435 non-null  float64\n",
      " 23  primary_cleaner.state.floatbank8_a_level            19438 non-null  float64\n",
      " 24  primary_cleaner.state.floatbank8_b_air              19435 non-null  float64\n",
      " 25  primary_cleaner.state.floatbank8_b_level            19438 non-null  float64\n",
      " 26  primary_cleaner.state.floatbank8_c_air              19437 non-null  float64\n",
      " 27  primary_cleaner.state.floatbank8_c_level            19438 non-null  float64\n",
      " 28  primary_cleaner.state.floatbank8_d_air              19436 non-null  float64\n",
      " 29  primary_cleaner.state.floatbank8_d_level            19438 non-null  float64\n",
      " 30  rougher.calculation.sulfate_to_au_concentrate       19437 non-null  float64\n",
      " 31  rougher.calculation.floatbank10_sulfate_to_au_feed  19437 non-null  float64\n",
      " 32  rougher.calculation.floatbank11_sulfate_to_au_feed  19437 non-null  float64\n",
      " 33  rougher.calculation.au_pb_ratio                     19439 non-null  float64\n",
      " 34  rougher.input.feed_ag                               19439 non-null  float64\n",
      " 35  rougher.input.feed_pb                               19339 non-null  float64\n",
      " 36  rougher.input.feed_rate                             19428 non-null  float64\n",
      " 37  rougher.input.feed_size                             19294 non-null  float64\n",
      " 38  rougher.input.feed_sol                              19340 non-null  float64\n",
      " 39  rougher.input.feed_au                               19439 non-null  float64\n",
      " 40  rougher.input.floatbank10_sulfate                   19405 non-null  float64\n",
      " 41  rougher.input.floatbank10_xanthate                  19431 non-null  float64\n",
      " 42  rougher.input.floatbank11_sulfate                   19395 non-null  float64\n",
      " 43  rougher.input.floatbank11_xanthate                  18986 non-null  float64\n",
      " 44  rougher.output.concentrate_ag                       19439 non-null  float64\n",
      " 45  rougher.output.concentrate_pb                       19439 non-null  float64\n",
      " 46  rougher.output.concentrate_sol                      19416 non-null  float64\n",
      " 47  rougher.output.concentrate_au                       19439 non-null  float64\n",
      " 48  rougher.output.recovery                             19439 non-null  float64\n",
      " 49  rougher.output.tail_ag                              19438 non-null  float64\n",
      " 50  rougher.output.tail_pb                              19439 non-null  float64\n",
      " 51  rougher.output.tail_sol                             19439 non-null  float64\n",
      " 52  rougher.output.tail_au                              19439 non-null  float64\n",
      " 53  rougher.state.floatbank10_a_air                     19438 non-null  float64\n",
      " 54  rougher.state.floatbank10_a_level                   19438 non-null  float64\n",
      " 55  rougher.state.floatbank10_b_air                     19438 non-null  float64\n",
      " 56  rougher.state.floatbank10_b_level                   19438 non-null  float64\n",
      " 57  rougher.state.floatbank10_c_air                     19438 non-null  float64\n",
      " 58  rougher.state.floatbank10_c_level                   19438 non-null  float64\n",
      " 59  rougher.state.floatbank10_d_air                     19439 non-null  float64\n",
      " 60  rougher.state.floatbank10_d_level                   19439 non-null  float64\n",
      " 61  rougher.state.floatbank10_e_air                     19003 non-null  float64\n",
      " 62  rougher.state.floatbank10_e_level                   19439 non-null  float64\n",
      " 63  rougher.state.floatbank10_f_air                     19439 non-null  float64\n",
      " 64  rougher.state.floatbank10_f_level                   19439 non-null  float64\n",
      " 65  secondary_cleaner.output.tail_ag                    19437 non-null  float64\n",
      " 66  secondary_cleaner.output.tail_pb                    19427 non-null  float64\n",
      " 67  secondary_cleaner.output.tail_sol                   17691 non-null  float64\n",
      " 68  secondary_cleaner.output.tail_au                    19439 non-null  float64\n",
      " 69  secondary_cleaner.state.floatbank2_a_air            19219 non-null  float64\n",
      " 70  secondary_cleaner.state.floatbank2_a_level          19438 non-null  float64\n",
      " 71  secondary_cleaner.state.floatbank2_b_air            19416 non-null  float64\n",
      " 72  secondary_cleaner.state.floatbank2_b_level          19438 non-null  float64\n",
      " 73  secondary_cleaner.state.floatbank3_a_air            19426 non-null  float64\n",
      " 74  secondary_cleaner.state.floatbank3_a_level          19438 non-null  float64\n",
      " 75  secondary_cleaner.state.floatbank3_b_air            19438 non-null  float64\n",
      " 76  secondary_cleaner.state.floatbank3_b_level          19438 non-null  float64\n",
      " 77  secondary_cleaner.state.floatbank4_a_air            19433 non-null  float64\n",
      " 78  secondary_cleaner.state.floatbank4_a_level          19438 non-null  float64\n",
      " 79  secondary_cleaner.state.floatbank4_b_air            19438 non-null  float64\n",
      " 80  secondary_cleaner.state.floatbank4_b_level          19438 non-null  float64\n",
      " 81  secondary_cleaner.state.floatbank5_a_air            19438 non-null  float64\n",
      " 82  secondary_cleaner.state.floatbank5_a_level          19438 non-null  float64\n",
      " 83  secondary_cleaner.state.floatbank5_b_air            19438 non-null  float64\n",
      " 84  secondary_cleaner.state.floatbank5_b_level          19438 non-null  float64\n",
      " 85  secondary_cleaner.state.floatbank6_a_air            19437 non-null  float64\n",
      " 86  secondary_cleaner.state.floatbank6_a_level          19438 non-null  float64\n",
      "dtypes: float64(86), object(1)\n",
      "memory usage: 12.9+ MB\n"
     ]
    }
   ],
   "source": [
    "full_df.info()"
   ]
  },
  {
   "cell_type": "markdown",
   "metadata": {},
   "source": [
    "Изучили данные и у нас:\n",
    "\n",
    "- Есть пропуски\n",
    "- Для столбца date изменим тип с object на datetime, в остальном типы данных соответствует содержимому.\n",
    "- Регистр названий столбцов в датасетах соответствует типу snake_case.\n",
    "- Изменим тип данных колонки date в датасетах с object на datetime."
   ]
  },
  {
   "cell_type": "markdown",
   "metadata": {},
   "source": [
    "Как видим, столбцы показывают состояния продукта после этапов флотации и очисток, а также содержат расчетные характеристики и целевые значения эффективности обогащения. Теперь найдем MAE."
   ]
  },
  {
   "cell_type": "code",
   "execution_count": 9,
   "metadata": {},
   "outputs": [
    {
     "data": {
      "text/plain": [
       "date                                          datetime64[ns]\n",
       "final.output.concentrate_ag                          float64\n",
       "final.output.concentrate_pb                          float64\n",
       "final.output.concentrate_sol                         float64\n",
       "final.output.concentrate_au                          float64\n",
       "                                                   ...      \n",
       "secondary_cleaner.state.floatbank5_a_level           float64\n",
       "secondary_cleaner.state.floatbank5_b_air             float64\n",
       "secondary_cleaner.state.floatbank5_b_level           float64\n",
       "secondary_cleaner.state.floatbank6_a_air             float64\n",
       "secondary_cleaner.state.floatbank6_a_level           float64\n",
       "Length: 87, dtype: object"
      ]
     },
     "execution_count": 9,
     "metadata": {},
     "output_type": "execute_result"
    }
   ],
   "source": [
    "train_df['date'] = pd.to_datetime(train_df['date'], format='%Y-%m-%d %H:%M:%S')\n",
    "train_df.dtypes"
   ]
  },
  {
   "cell_type": "code",
   "execution_count": 10,
   "metadata": {},
   "outputs": [
    {
     "data": {
      "text/plain": [
       "date                                          datetime64[ns]\n",
       "primary_cleaner.input.sulfate                        float64\n",
       "primary_cleaner.input.depressant                     float64\n",
       "primary_cleaner.input.feed_size                      float64\n",
       "primary_cleaner.input.xanthate                       float64\n",
       "primary_cleaner.state.floatbank8_a_air               float64\n",
       "primary_cleaner.state.floatbank8_a_level             float64\n",
       "primary_cleaner.state.floatbank8_b_air               float64\n",
       "primary_cleaner.state.floatbank8_b_level             float64\n",
       "primary_cleaner.state.floatbank8_c_air               float64\n",
       "primary_cleaner.state.floatbank8_c_level             float64\n",
       "primary_cleaner.state.floatbank8_d_air               float64\n",
       "primary_cleaner.state.floatbank8_d_level             float64\n",
       "rougher.input.feed_ag                                float64\n",
       "rougher.input.feed_pb                                float64\n",
       "rougher.input.feed_rate                              float64\n",
       "rougher.input.feed_size                              float64\n",
       "rougher.input.feed_sol                               float64\n",
       "rougher.input.feed_au                                float64\n",
       "rougher.input.floatbank10_sulfate                    float64\n",
       "rougher.input.floatbank10_xanthate                   float64\n",
       "rougher.input.floatbank11_sulfate                    float64\n",
       "rougher.input.floatbank11_xanthate                   float64\n",
       "rougher.state.floatbank10_a_air                      float64\n",
       "rougher.state.floatbank10_a_level                    float64\n",
       "rougher.state.floatbank10_b_air                      float64\n",
       "rougher.state.floatbank10_b_level                    float64\n",
       "rougher.state.floatbank10_c_air                      float64\n",
       "rougher.state.floatbank10_c_level                    float64\n",
       "rougher.state.floatbank10_d_air                      float64\n",
       "rougher.state.floatbank10_d_level                    float64\n",
       "rougher.state.floatbank10_e_air                      float64\n",
       "rougher.state.floatbank10_e_level                    float64\n",
       "rougher.state.floatbank10_f_air                      float64\n",
       "rougher.state.floatbank10_f_level                    float64\n",
       "secondary_cleaner.state.floatbank2_a_air             float64\n",
       "secondary_cleaner.state.floatbank2_a_level           float64\n",
       "secondary_cleaner.state.floatbank2_b_air             float64\n",
       "secondary_cleaner.state.floatbank2_b_level           float64\n",
       "secondary_cleaner.state.floatbank3_a_air             float64\n",
       "secondary_cleaner.state.floatbank3_a_level           float64\n",
       "secondary_cleaner.state.floatbank3_b_air             float64\n",
       "secondary_cleaner.state.floatbank3_b_level           float64\n",
       "secondary_cleaner.state.floatbank4_a_air             float64\n",
       "secondary_cleaner.state.floatbank4_a_level           float64\n",
       "secondary_cleaner.state.floatbank4_b_air             float64\n",
       "secondary_cleaner.state.floatbank4_b_level           float64\n",
       "secondary_cleaner.state.floatbank5_a_air             float64\n",
       "secondary_cleaner.state.floatbank5_a_level           float64\n",
       "secondary_cleaner.state.floatbank5_b_air             float64\n",
       "secondary_cleaner.state.floatbank5_b_level           float64\n",
       "secondary_cleaner.state.floatbank6_a_air             float64\n",
       "secondary_cleaner.state.floatbank6_a_level           float64\n",
       "dtype: object"
      ]
     },
     "execution_count": 10,
     "metadata": {},
     "output_type": "execute_result"
    }
   ],
   "source": [
    "test_df['date'] = pd.to_datetime(test_df['date'], format='%Y-%m-%d %H:%M:%S')\n",
    "test_df.dtypes"
   ]
  },
  {
   "cell_type": "code",
   "execution_count": 11,
   "metadata": {},
   "outputs": [
    {
     "data": {
      "text/plain": [
       "date                                          datetime64[ns]\n",
       "final.output.concentrate_ag                          float64\n",
       "final.output.concentrate_pb                          float64\n",
       "final.output.concentrate_sol                         float64\n",
       "final.output.concentrate_au                          float64\n",
       "                                                   ...      \n",
       "secondary_cleaner.state.floatbank5_a_level           float64\n",
       "secondary_cleaner.state.floatbank5_b_air             float64\n",
       "secondary_cleaner.state.floatbank5_b_level           float64\n",
       "secondary_cleaner.state.floatbank6_a_air             float64\n",
       "secondary_cleaner.state.floatbank6_a_level           float64\n",
       "Length: 87, dtype: object"
      ]
     },
     "execution_count": 11,
     "metadata": {},
     "output_type": "execute_result"
    }
   ],
   "source": [
    "full_df['date'] = pd.to_datetime(full_df['date'], format='%Y-%m-%d %H:%M:%S')\n",
    "full_df.dtypes"
   ]
  },
  {
   "cell_type": "markdown",
   "metadata": {},
   "source": [
    "Проверим, есть ли дубликаты"
   ]
  },
  {
   "cell_type": "code",
   "execution_count": 12,
   "metadata": {},
   "outputs": [
    {
     "name": "stdout",
     "output_type": "stream",
     "text": [
      "\n",
      "Количество явных дубликатов в 1-ом датасете -  0\n",
      "\n",
      "Количество явных дубликатов в 2-ом датасете -  0\n",
      "\n",
      "Количество явных дубликатов в 3-ом датасете -  0\n"
     ]
    }
   ],
   "source": [
    "cnt = 0\n",
    "for df in [train_df, test_df, full_df]:\n",
    "    cnt += 1\n",
    "    print(f'\\nКоличество явных дубликатов в {cnt}-ом датасете - ',df.duplicated().sum())"
   ]
  },
  {
   "cell_type": "markdown",
   "metadata": {},
   "source": [
    "Избавимся от пропусков.\n",
    "- По условию задачи, известно, что данные индексируются датой и временем получения информации (признак date).\n",
    "- Соседние по времени параметры часто похожи. Воспользуемся этим условием.\n",
    "- С помощью функции ffill заполним отсутствующие значения в тренировочной и тестовой выборках. Функция заполняет пропуски предпоследним значением признака (значения даты расположены по возрастанию)."
   ]
  },
  {
   "cell_type": "code",
   "execution_count": 13,
   "metadata": {},
   "outputs": [
    {
     "name": "stdout",
     "output_type": "stream",
     "text": [
      "\n",
      "Размер тренировочной выборки - (14149, 87) и количество строк без пропусков - 14149\n",
      "\n",
      "Размер тестовой выборки - (5290, 53) и количество строк без пропусков - 5290\n",
      "\n",
      "Размер исходной выборки - (19439, 87) и количество строк без пропусков - 19439\n"
     ]
    }
   ],
   "source": [
    "size_of_train_df_before = train_df.shape\n",
    "size_of_test_df_before = test_df.shape\n",
    "size_of_full_df_before = full_df.shape\n",
    "train_df = train_df.ffill(axis=0)\n",
    "test_df = test_df.ffill(axis=0)\n",
    "full_df = full_df.ffill(axis=0)\n",
    "print(f'\\nРазмер тренировочной выборки - {size_of_train_df_before} и количество строк без пропусков - {len(train_df.notna())}')\n",
    "print(f'\\nРазмер тестовой выборки - {size_of_test_df_before} и количество строк без пропусков - {len(test_df.notna())}')\n",
    "print(f'\\nРазмер исходной выборки - {size_of_full_df_before} и количество строк без пропусков - {len(full_df.notna())}')"
   ]
  },
  {
   "cell_type": "markdown",
   "metadata": {},
   "source": [
    "Пропуски отсутствуют.\n",
    "\n",
    "Проверим формулу эффективности обогащения.\n",
    "\n",
    "Для этого вычислите её на обучающей выборке для признака rougher.output.recovery. Найдем MAE между полученными значениями и значением признака.\n",
    "\n",
    "recovery = ((C(F-T))/(FC-T))*100%, где:\n",
    "\n",
    "С - доля золота концентрате после фильтрации/очитски\n",
    "F - доля золота в сырье/концентрате до флотации/очистки\n",
    "T - доля золота в отвальных хвостах после фильтрации/очистки\n",
    "Принимая во внимание условие задачи, нам нужен этап флотации, а значит:\n",
    "\n",
    "C это rougher.output.concentrate_au\n",
    "F это rougher.input.feed_au\n",
    "T это rougher.output.tail_au\n",
    "Значение нужного нам признака - rougher.output.recovery"
   ]
  },
  {
   "cell_type": "code",
   "execution_count": 14,
   "metadata": {},
   "outputs": [],
   "source": [
    "c = train_df['rougher.output.concentrate_au']\n",
    "f = train_df['rougher.input.feed_au']\n",
    "t = train_df['rougher.output.tail_au']\n",
    "recovery = ((c*(f-t))/(f*(c-t))) * 100"
   ]
  },
  {
   "cell_type": "code",
   "execution_count": 15,
   "metadata": {},
   "outputs": [
    {
     "name": "stdout",
     "output_type": "stream",
     "text": [
      "MAE - 9.73512347450521e-15\n"
     ]
    }
   ],
   "source": [
    "print('MAE -', mean_absolute_error(train_df['rougher.output.recovery'], recovery))"
   ]
  },
  {
   "cell_type": "markdown",
   "metadata": {},
   "source": [
    "MAE - средний модуль разности, и показывает как сильно предсказания в среднем отличаются от истинных значений. Полученное значение мало, а значит расчеты верны."
   ]
  },
  {
   "cell_type": "markdown",
   "metadata": {},
   "source": [
    "Проанализируем признаки, недоступные в тестовой выборке."
   ]
  },
  {
   "cell_type": "code",
   "execution_count": 16,
   "metadata": {},
   "outputs": [],
   "source": [
    "missed_signs = set(train_df.columns) - set(test_df.columns)"
   ]
  },
  {
   "cell_type": "code",
   "execution_count": 17,
   "metadata": {},
   "outputs": [
    {
     "data": {
      "text/plain": [
       "{'final.output.concentrate_ag',\n",
       " 'final.output.concentrate_au',\n",
       " 'final.output.concentrate_pb',\n",
       " 'final.output.concentrate_sol',\n",
       " 'final.output.recovery',\n",
       " 'final.output.tail_ag',\n",
       " 'final.output.tail_au',\n",
       " 'final.output.tail_pb',\n",
       " 'final.output.tail_sol',\n",
       " 'primary_cleaner.output.concentrate_ag',\n",
       " 'primary_cleaner.output.concentrate_au',\n",
       " 'primary_cleaner.output.concentrate_pb',\n",
       " 'primary_cleaner.output.concentrate_sol',\n",
       " 'primary_cleaner.output.tail_ag',\n",
       " 'primary_cleaner.output.tail_au',\n",
       " 'primary_cleaner.output.tail_pb',\n",
       " 'primary_cleaner.output.tail_sol',\n",
       " 'rougher.calculation.au_pb_ratio',\n",
       " 'rougher.calculation.floatbank10_sulfate_to_au_feed',\n",
       " 'rougher.calculation.floatbank11_sulfate_to_au_feed',\n",
       " 'rougher.calculation.sulfate_to_au_concentrate',\n",
       " 'rougher.output.concentrate_ag',\n",
       " 'rougher.output.concentrate_au',\n",
       " 'rougher.output.concentrate_pb',\n",
       " 'rougher.output.concentrate_sol',\n",
       " 'rougher.output.recovery',\n",
       " 'rougher.output.tail_ag',\n",
       " 'rougher.output.tail_au',\n",
       " 'rougher.output.tail_pb',\n",
       " 'rougher.output.tail_sol',\n",
       " 'secondary_cleaner.output.tail_ag',\n",
       " 'secondary_cleaner.output.tail_au',\n",
       " 'secondary_cleaner.output.tail_pb',\n",
       " 'secondary_cleaner.output.tail_sol'}"
      ]
     },
     "execution_count": 17,
     "metadata": {},
     "output_type": "execute_result"
    }
   ],
   "source": [
    "missed_signs"
   ]
  },
  {
   "cell_type": "code",
   "execution_count": 18,
   "metadata": {},
   "outputs": [
    {
     "name": "stdout",
     "output_type": "stream",
     "text": [
      "\n",
      "Количество отсутствующих признаков - 34\n"
     ]
    }
   ],
   "source": [
    "print('\\nКоличество отсутствующих признаков -', len(missed_signs))"
   ]
  },
  {
   "cell_type": "code",
   "execution_count": 19,
   "metadata": {},
   "outputs": [],
   "source": [
    "dict_with_name_of_values = {'final': 'финальные характеристики',\n",
    "                           'primary_cleaner': 'первичная очистка',\n",
    "                           'secondary_cleaner': 'вторичная очистка',\n",
    "                           'input': 'параметры сырья',\n",
    "                           'output': 'параметры продукта',\n",
    "                           'rougher': 'флотация',\n",
    "                           'state': 'параметры, характеризующие текущее состояние этапа',\n",
    "                           'calculation': 'расчётные характеристики'}"
   ]
  },
  {
   "cell_type": "code",
   "execution_count": 20,
   "metadata": {},
   "outputs": [
    {
     "name": "stdout",
     "output_type": "stream",
     "text": [
      "==========================================================================================\n",
      "ДЛЯ ЭТАПА \"ФИНАЛЬНЫЕ ХАРАКТЕРИСТИКИ\" С ОПЦИЕЙ \"ПАРАМЕТРЫ ПРОДУКТА\" ОТСУТСТВУЮТ ЗНАЧЕНИЯ:\n",
      "==========================================================================================\n",
      " - concentrate_sol\n",
      " - concentrate_pb\n",
      " - tail_pb\n",
      " - recovery\n",
      " - tail_sol\n",
      " - tail_au\n",
      " - tail_ag\n",
      " - concentrate_au\n",
      " - concentrate_ag\n",
      "==========================================================================================\n",
      "ДЛЯ ЭТАПА \"ФЛОТАЦИЯ\" С ОПЦИЕЙ \"ПАРАМЕТРЫ ПРОДУКТА\" ОТСУТСТВУЮТ ЗНАЧЕНИЯ:\n",
      "==========================================================================================\n",
      " - concentrate_sol\n",
      " - concentrate_au\n",
      " - tail_pb\n",
      " - tail_au\n",
      " - tail_sol\n",
      " - recovery\n",
      " - tail_ag\n",
      " - concentrate_pb\n",
      " - concentrate_ag\n",
      "==========================================================================================\n",
      "ДЛЯ ЭТАПА \"ПЕРВИЧНАЯ ОЧИСТКА\" С ОПЦИЕЙ \"ПАРАМЕТРЫ ПРОДУКТА\" ОТСУТСТВУЮТ ЗНАЧЕНИЯ:\n",
      "==========================================================================================\n",
      " - concentrate_sol\n",
      " - tail_au\n",
      " - tail_ag\n",
      " - concentrate_au\n",
      " - tail_pb\n",
      " - tail_sol\n",
      " - concentrate_pb\n",
      " - concentrate_ag\n",
      "==========================================================================================\n",
      "ДЛЯ ЭТАПА \"ФЛОТАЦИЯ\" С ОПЦИЕЙ \"РАСЧЁТНЫЕ ХАРАКТЕРИСТИКИ\" ОТСУТСТВУЮТ ЗНАЧЕНИЯ:\n",
      "==========================================================================================\n",
      " - sulfate_to_au_concentrate\n",
      " - au_pb_ratio\n",
      " - floatbank11_sulfate_to_au_feed\n",
      " - floatbank10_sulfate_to_au_feed\n",
      "==========================================================================================\n",
      "ДЛЯ ЭТАПА \"ВТОРИЧНАЯ ОЧИСТКА\" С ОПЦИЕЙ \"ПАРАМЕТРЫ ПРОДУКТА\" ОТСУТСТВУЮТ ЗНАЧЕНИЯ:\n",
      "==========================================================================================\n",
      " - tail_au\n",
      " - tail_pb\n",
      " - tail_sol\n",
      " - tail_ag\n"
     ]
    }
   ],
   "source": [
    "dict_for_missed_signs = {}\n",
    "for sign in missed_signs:\n",
    "    list_with_words = sign.split('.')\n",
    "    stage = list_with_words[0]+'-'+list_with_words[1]\n",
    "    if stage in dict_for_missed_signs:\n",
    "        dict_for_missed_signs[stage].append(list_with_words[2])\n",
    "    elif stage not in dict_for_missed_signs:\n",
    "        dict_for_missed_signs[stage] = [list_with_words[2]]\n",
    "for key in dict_for_missed_signs.keys():\n",
    "    split_key = key.split('-')\n",
    "    print('='*90)\n",
    "    print(f'ДЛЯ ЭТАПА \"{(dict_with_name_of_values[split_key[0]]).upper()}\" С ОПЦИЕЙ \"{(dict_with_name_of_values[split_key[1]]).upper()}\" ОТСУТСТВУЮТ ЗНАЧЕНИЯ:')\n",
    "    print('='*90)\n",
    "    for elem in dict_for_missed_signs[key]:\n",
    "        print(f' - {elem}')"
   ]
  },
  {
   "cell_type": "markdown",
   "metadata": {},
   "source": [
    "В основном в тестовой выборке отсутствуют значения типа \"параметры продукта\", и в меньшем количестве (4 штуки) значения типа \"расчетные характеристики\". Отсутствие признаков можно обьяснить тем, что они замеряются и/или рассчитываются значительно позже (по условию задачи)."
   ]
  },
  {
   "cell_type": "markdown",
   "metadata": {},
   "source": [
    "В тестовой выборки в том числе отсутствуют целевые признаки rougher.output.recovery и final.output.recovery, которые будут нужны для расчета метрики качества. Добавим их в тестовую выборку, используя метод merge, в качестве индексов используем колонку date (данные индексируются датой и временем получения информации)"
   ]
  },
  {
   "cell_type": "code",
   "execution_count": 21,
   "metadata": {},
   "outputs": [],
   "source": [
    "test_df = test_df.merge(full_df.loc[:, ['date','rougher.output.recovery','final.output.recovery']], on='date')"
   ]
  },
  {
   "cell_type": "markdown",
   "metadata": {},
   "source": [
    "В завершающем шаге предобработки данных считаю нужным удалить колонку date, как не информативную для дальнейшего обучения модели."
   ]
  },
  {
   "cell_type": "code",
   "execution_count": 22,
   "metadata": {},
   "outputs": [],
   "source": [
    "train_df = train_df.drop('date', axis=1)\n",
    "test_df = test_df.drop('date', axis=1)"
   ]
  },
  {
   "cell_type": "code",
   "execution_count": 23,
   "metadata": {},
   "outputs": [
    {
     "name": "stdout",
     "output_type": "stream",
     "text": [
      "\n",
      "Размер тестовой выборки - (5290, 54) | Размер тренировочной выборки - (14149, 86)\n"
     ]
    }
   ],
   "source": [
    "print('\\nРазмер тестовой выборки - {} | Размер тренировочной выборки - {}'.format(test_df.shape, train_df.shape))"
   ]
  },
  {
   "cell_type": "markdown",
   "metadata": {},
   "source": [
    "<b>ВЫВОД</b>\n",
    "\n",
    "В данных:\n",
    "\n",
    "- Был изменен тип данных для колонки date с object на datetime. В остальных признаках типы данных соответствуют содержимому.\n",
    "- Регистр соответствует стандарту snake_case.\n",
    "- Пропуски в датасетах (тренировочная выборки и тестовая) были заполнены значениями предшествующими по времени (Так как в условии задачи сказано, что : \"Соседние по времени параметры часто похожи\").\n",
    "- Проверена правильность расчета эффективности обогащения. МАЕ равно предельно малому значению (отличие предсказаний от истинных значений).\n",
    "- В сравнение с тренировчной выборкой в тестовой отсутствуют 34 значения, это может быть связано с тем, что они замеряются и/или рассчитываются значительно позже.\n",
    "- В тестовую выборку были добавлены целевые признаки (rougher.output.recovery, final.output.recovery), которые будут необходимы в дальнейшем для рассчета итоговой метрики качества.\n",
    "- Колонка date была удалена как не информативна для дальнейшего обучения модели."
   ]
  },
  {
   "cell_type": "markdown",
   "metadata": {},
   "source": [
    "## Анализ данных"
   ]
  },
  {
   "cell_type": "markdown",
   "metadata": {},
   "source": [
    "Распределим концентрации металлов на различных ступенях обработки"
   ]
  },
  {
   "cell_type": "code",
   "execution_count": 24,
   "metadata": {},
   "outputs": [
    {
     "data": {
      "image/png": "[encoded data removed]",
      "text/plain": [
       "<Figure size 1080x1224 with 3 Axes>"
      ]
     },
     "metadata": {
      "needs_background": "light"
     },
     "output_type": "display_data"
    }
   ],
   "source": [
    "position = 0\n",
    "plt.figure(figsize=[15, 17])\n",
    "plt.subplots_adjust(top=0.94, wspace=0.2, hspace=0.3)\n",
    "plt.suptitle('ГРАФИК КОНЦЕНТРАЦИИ МЕТАЛЛОВ НА РАЗЛИЧНЫХ ЭТАПАХ ОЧИТСКИ.', fontsize=15)\n",
    "for metal in ['au', 'ag', 'pb']:\n",
    "    position += 1\n",
    "    plt.subplot(3, 1, position)\n",
    "    plt.title(f'ГРАФИК РАСПРЕДЕЛЕНИЯ МЕТАЛЛА {str(metal).upper()} НА РАЗЛИЧНЫХ ЭТАПАХ ОЧИТСКИ', fontsize=13)\n",
    "    sns.set_style('darkgrid')\n",
    "    sns.histplot(train_df[f'rougher.input.feed_{metal}'], color='y', label='Сырье', kde=False)\n",
    "    sns.histplot(train_df[f'rougher.output.concentrate_{metal}'], color='b', label='Концентрация после флотации', kde=False)\n",
    "    sns.histplot(train_df[f'primary_cleaner.output.concentrate_{metal}'], color='g', label='Концентрация после первичной очистки', kde=False)\n",
    "    sns.histplot(train_df[f'final.output.concentrate_{metal}'], color='r', label='Финальная концетрация металла',kde=False)\n",
    "    plt.xlabel('Концентрация металла')\n",
    "    plt.ylabel('Количество наблюдений')\n",
    "    plt.legend()\n",
    "plt.show();"
   ]
  },
  {
   "cell_type": "markdown",
   "metadata": {},
   "source": [
    "Для золота (AU):\n",
    "\n",
    "- Доля золота на после каждого этапа очитски постепенно увеличивается.\n",
    "\n",
    "Для серебра(AG):\n",
    "\n",
    "- Доля серебра увеличивается на этапе флотации, а затем постепенно уменьшается.\n",
    "\n",
    "Для свинца(PB):\n",
    "\n",
    "- Доля свинца сначала увеличивается на этапе флотации и после первичной очитски, затем остатется примерно на одном уровне.\n",
    "\n",
    "\n",
    "В данных для каждого металла присутствуют аномалии.\n",
    "\n",
    "Сравним распределения размеров гранул сырья на обучающей и тестовой выборках."
   ]
  },
  {
   "cell_type": "code",
   "execution_count": 25,
   "metadata": {},
   "outputs": [
    {
     "data": {
      "image/png": "[encoded data removed]",
      "text/plain": [
       "<Figure size 1080x1224 with 2 Axes>"
      ]
     },
     "metadata": {},
     "output_type": "display_data"
    }
   ],
   "source": [
    "position = 0\n",
    "plt.figure(figsize=[15, 17])\n",
    "plt.subplots_adjust(top=0.9, wspace=0.2, hspace=0.2)\n",
    "plt.suptitle('ГРАФИК РАСПРЕДЕЛЕНИЯ ГРАНУЛ СЫРЬЯ НА ОБУЧАЮЩЕЙ И ТЕСТОВОЙ ВЫБОРКАХ.', fontsize=15)\n",
    "for stage in ['rougher', 'primary_cleaner']:\n",
    "    position += 1\n",
    "    plt.subplot(2, 1, position)\n",
    "    plt.title(f'ГРАФИК РАСПРЕДЕЛЕНИЯ ГРАНУЛ ДЛЯ ЭТАПА {str(stage).upper()} НА ОБУЧАЮЩЕЙ и ТЕСТОВОЙ ВЫБОРКАХ', fontsize=13)\n",
    "    sns.set_style('darkgrid')\n",
    "    plt.hist(train_df[f'{stage}.input.feed_size'], color='r', label='Обучающая выборка', density=True)\n",
    "    plt.hist(test_df[f'{stage}.input.feed_size'], color='b', label='Тестовая выборка', density=True)\n",
    "    plt.xlabel('Размер гранул')\n",
    "    plt.ylabel('Количество наблюдений')\n",
    "    plt.legend()\n",
    "plt.show();"
   ]
  },
  {
   "cell_type": "markdown",
   "metadata": {},
   "source": [
    "Для этапа флотации распределение гранул находится примерно в одинаковом диапазоне, но для тренировочной выборки преобладают гранулы с размером ~ 50 , а для тестовой наоборот, ниже порога 50.\n",
    "\n",
    "Для этапа первичной очитски разспределение гранул для выборок находится в одном диапазоне, однако есть различия в количестве наблюдений. Так для тренировочной выборки количество наблюдений размера гранул больше, чем для тестовой.\n",
    "\n",
    "Таким образом, значимых различий между распределениями для выборок не наблюдается."
   ]
  },
  {
   "cell_type": "code",
   "execution_count": 26,
   "metadata": {},
   "outputs": [
    {
     "data": {
      "image/png": "[encoded data removed]",
      "text/plain": [
       "<Figure size 864x648 with 1 Axes>"
      ]
     },
     "metadata": {},
     "output_type": "display_data"
    }
   ],
   "source": [
    "plt.figure(figsize=[12,9])\n",
    "\n",
    "plt.hist(train_df['rougher.input.feed_size'], bins=200, color='r', label = 'Обучающая выборка', alpha=.5)\n",
    "plt.hist(test_df['rougher.input.feed_size'], bins=200, color='b', label = 'Тестовая выборка', alpha=.5)\n",
    "\n",
    "plt.xlim([0, 400])\n",
    "plt.ylim([0, 1400])\n",
    "\n",
    "plt.xlabel(\"Размер гранул сырья\")\n",
    "plt.ylabel(\"Количество результатов\")\n",
    "\n",
    "plt.legend(loc='upper right')\n",
    "\n",
    "plt.title(\"ГРАФИК РАСПРЕДЕЛЕНИЯ ГРАНУЛ\")\n",
    "plt.show()"
   ]
  },
  {
   "cell_type": "markdown",
   "metadata": {},
   "source": [
    "Исследуем суммарную концентрацию всех веществ на разных стадиях: в сырье, в черновом и финальном концентратах."
   ]
  },
  {
   "cell_type": "code",
   "execution_count": 27,
   "metadata": {},
   "outputs": [],
   "source": [
    "sum_concentrate_of_rougher_input = 0\n",
    "sum_concentrate_of_rougher_output = 0\n",
    "sum_concentrate_of_primary_cleaner_output = 0\n",
    "sum_concentrate_of_final_output = 0\n",
    "for metal in ['au', 'ag', 'pb', 'sol']:\n",
    "    sum_concentrate_of_rougher_input += train_df[f'rougher.input.feed_{metal}']\n",
    "    sum_concentrate_of_rougher_output += train_df[f'rougher.output.concentrate_{metal}']\n",
    "    sum_concentrate_of_final_output += train_df[f'final.output.concentrate_{metal}']"
   ]
  },
  {
   "cell_type": "code",
   "execution_count": 28,
   "metadata": {
    "scrolled": true
   },
   "outputs": [
    {
     "data": {
      "image/png": "[encoded data removed]",
      "text/plain": [
       "<Figure size 1080x648 with 1 Axes>"
      ]
     },
     "metadata": {},
     "output_type": "display_data"
    }
   ],
   "source": [
    "plt.figure(figsize=[15, 9])\n",
    "plt.suptitle('ГРАФИК СУММАРНОЙ КОНЦЕНТРАЦИИ ВЕЩЕСТВ НА РАЗНЫХ СТАДИЯХ.', fontsize=15)\n",
    "sns.set_style('darkgrid')\n",
    "sns.histplot(sum_concentrate_of_rougher_input, color='y', label='Сырье', kde=False)\n",
    "sns.histplot(sum_concentrate_of_rougher_output, color='b', label='Концентрация после флотации', kde=False)\n",
    "sns.histplot(sum_concentrate_of_final_output, color='r', label='Финальная концетрация',kde=False)\n",
    "plt.xlabel('Концентрация веществ')\n",
    "plt.ylabel('Количество наблюдений')\n",
    "plt.legend()\n",
    "plt.show();"
   ]
  },
  {
   "cell_type": "markdown",
   "metadata": {},
   "source": [
    "Суммарная концентрация веществ увеличивается к финальному этапу, а диапазон распределения суммарной концентрации веществ уменьшается.\n",
    "\n",
    "Для финального и этапа флотации для суммарной концентрации веществ присутствуют аномалии ( значения в районе 0). Считаю необходимым удалить аномалии из данных. Аномалии могут негативно повлиять на качество обучения модели."
   ]
  },
  {
   "cell_type": "code",
   "execution_count": 29,
   "metadata": {},
   "outputs": [],
   "source": [
    "train_df = train_df[(train_df['rougher.output.concentrate_au'] != 0) & (train_df['rougher.output.concentrate_ag'] != 0) & (train_df['rougher.output.concentrate_pb'] != 0) & (train_df['rougher.output.concentrate_sol'] != 0)]\n",
    "train_df = train_df[(train_df['final.output.concentrate_au'] != 0) & (train_df['final.output.concentrate_ag'] != 0) & (train_df['final.output.concentrate_pb'] != 0) & (train_df['final.output.concentrate_sol'] != 0)]\n",
    "\n",
    "full_df = full_df[(full_df['rougher.output.concentrate_au'] != 0) & (full_df['rougher.output.concentrate_ag'] != 0) & (full_df['rougher.output.concentrate_pb'] != 0) & (full_df['rougher.output.concentrate_sol'] != 0)]\n",
    "full_df = full_df[(full_df['final.output.concentrate_au'] != 0) & (full_df['final.output.concentrate_ag'] != 0) & (full_df['final.output.concentrate_pb'] != 0) & (full_df['final.output.concentrate_sol'] != 0)]"
   ]
  },
  {
   "cell_type": "markdown",
   "metadata": {},
   "source": [
    "<b>ВЫВОД</b>\n",
    "\n",
    "- Распределения гранул сырья на обучающей и тестовой выборках значительных различий не имеют\n",
    "- Доля золота увеличивается по мере прохождения этапов очистки\n",
    "- В анализа суммарной концентрации веществ на разных стадиях были выявлены аномалии, которые были удалены для улучшения качества будущих моделей прогнозирования."
   ]
  },
  {
   "cell_type": "markdown",
   "metadata": {},
   "source": [
    "## Модель"
   ]
  },
  {
   "cell_type": "markdown",
   "metadata": {},
   "source": [
    "Считаю необходимым удаление отсутствующих в тестовой выборке признаков (за исключением целевых признаков) из тренировочной выборки. В противном случае в ходе обучения будущих моделей может произойти утечка целевого признака. Она происходит, когда в признаки попадает информация о целевом признаке."
   ]
  },
  {
   "cell_type": "code",
   "execution_count": 30,
   "metadata": {},
   "outputs": [],
   "source": [
    "signs_for_delete_without_target_signs = missed_signs - set(['rougher.output.recovery','final.output.recovery'])"
   ]
  },
  {
   "cell_type": "code",
   "execution_count": 31,
   "metadata": {},
   "outputs": [
    {
     "name": "stdout",
     "output_type": "stream",
     "text": [
      "\n",
      "Количество признаков для удаления из тренировочной выборки - 32\n"
     ]
    }
   ],
   "source": [
    "print('\\nКоличество признаков для удаления из тренировочной выборки -', len(signs_for_delete_without_target_signs))"
   ]
  },
  {
   "cell_type": "markdown",
   "metadata": {},
   "source": [
    "Напишем функцию для вычисления sMape"
   ]
  },
  {
   "cell_type": "code",
   "execution_count": 32,
   "metadata": {},
   "outputs": [],
   "source": [
    "def get_smape(target, predict):\n",
    "    smape = (1/len(target))*np.sum((np.abs(target - predict))/( (np.abs(target)+np.abs(predict))/2))*100\n",
    "    return smape"
   ]
  },
  {
   "cell_type": "code",
   "execution_count": 33,
   "metadata": {},
   "outputs": [],
   "source": [
    "smape_scorer = make_scorer(get_smape)"
   ]
  },
  {
   "cell_type": "markdown",
   "metadata": {},
   "source": [
    "Напишем функцию для вычисления итоговой sMAPE."
   ]
  },
  {
   "cell_type": "code",
   "execution_count": 34,
   "metadata": {},
   "outputs": [],
   "source": [
    "def get_final_smape(rougher, final):\n",
    "    final = 0.25*rougher+0.75*final\n",
    "    return final"
   ]
  },
  {
   "cell_type": "markdown",
   "metadata": {},
   "source": [
    "Подготовим данные для обучения моделей"
   ]
  },
  {
   "cell_type": "code",
   "execution_count": 35,
   "metadata": {},
   "outputs": [],
   "source": [
    "train_df = train_df.drop(signs_for_delete_without_target_signs, axis=1)\n",
    "features_for_train_df = train_df.drop(['rougher.output.recovery','final.output.recovery'], axis=1)\n",
    "target_for_rougher_on_train_df = train_df['rougher.output.recovery']\n",
    "target_for_final_on_train_df = train_df['final.output.recovery']"
   ]
  },
  {
   "cell_type": "markdown",
   "metadata": {},
   "source": [
    "Обучим разные модели и оцените их качество кросс-валидацией."
   ]
  },
  {
   "cell_type": "code",
   "execution_count": 36,
   "metadata": {},
   "outputs": [],
   "source": [
    "dct_with_scores = {}"
   ]
  },
  {
   "cell_type": "markdown",
   "metadata": {},
   "source": [
    "Модель LinearRegression"
   ]
  },
  {
   "cell_type": "code",
   "execution_count": 37,
   "metadata": {},
   "outputs": [
    {
     "name": "stdout",
     "output_type": "stream",
     "text": [
      "CPU times: user 1.49 s, sys: 2.15 s, total: 3.64 s\n",
      "Wall time: 3.65 s\n"
     ]
    }
   ],
   "source": [
    "%%time\n",
    "model_lr_rougher = LinearRegression()\n",
    "smape_rougher = cross_val_score(model_lr_rougher,\n",
    "                          features_for_train_df,\n",
    "                          target_for_rougher_on_train_df,\n",
    "                          scoring=smape_scorer,\n",
    "                          cv=5)\n",
    "final_smape_rougher = smape_rougher.mean()\n",
    "model_lr_final = LinearRegression()\n",
    "smape_final = cross_val_score(model_lr_final,\n",
    "                        features_for_train_df,\n",
    "                        target_for_final_on_train_df,\n",
    "                        scoring=smape_scorer,\n",
    "                        cv=5)\n",
    "final_smape_final = smape_final.mean()\n",
    "result_smape = get_final_smape(final_smape_rougher, final_smape_final)*(-1)\n",
    "dct_with_scores['LR'] = [result_smape]"
   ]
  },
  {
   "cell_type": "markdown",
   "metadata": {},
   "source": [
    "Модель DecisionTreeRegressor"
   ]
  },
  {
   "cell_type": "code",
   "execution_count": 38,
   "metadata": {},
   "outputs": [],
   "source": [
    "state = RandomState(12345)"
   ]
  },
  {
   "cell_type": "code",
   "execution_count": 49,
   "metadata": {},
   "outputs": [
    {
     "name": "stdout",
     "output_type": "stream",
     "text": [
      "CPU times: user 43.5 s, sys: 62.5 ms, total: 43.6 s\n",
      "Wall time: 43.6 s\n"
     ]
    }
   ],
   "source": [
    "%%time\n",
    "best_result_for_dt = 100\n",
    "best_param_for_dt = 0\n",
    "for n in range(1, 10, 1):\n",
    "    model_dt_rougher = DecisionTreeRegressor(max_depth=n, random_state=state)\n",
    "    smape_rougher = cross_val_score(model_dt_rougher,\n",
    "                              features_for_train_df,\n",
    "                              target_for_rougher_on_train_df,\n",
    "                              scoring=smape_scorer,\n",
    "                              cv=5)\n",
    "    final_smape_rougher = smape_rougher.mean()\n",
    "\n",
    "    model_dt_final = DecisionTreeRegressor(max_depth=n, random_state=state)\n",
    "    smape_final = cross_val_score(model_dt_final, \n",
    "                                  features_for_train_df,\n",
    "                                  target_for_final_on_train_df,\n",
    "                                  scoring=smape_scorer,\n",
    "                                  cv=5)\n",
    "    final_smape_final = smape_final.mean()\n",
    "    result_smape = get_final_smape(final_smape_rougher, final_smape_final) #*(-1)\n",
    "    if result_smape < best_result_for_dt:\n",
    "        best_result_for_dt = result_smape\n",
    "        best_param_for_dt = n\n",
    "dct_with_scores['DT'] = [best_result_for_dt, best_param_for_dt]"
   ]
  },
  {
   "cell_type": "markdown",
   "metadata": {},
   "source": [
    "Модель RandomForestRegressor"
   ]
  },
  {
   "cell_type": "code",
   "execution_count": 39,
   "metadata": {},
   "outputs": [
    {
     "name": "stdout",
     "output_type": "stream",
     "text": [
      "CPU times: user 23.9 s, sys: 79 ms, total: 23.9 s\n",
      "Wall time: 23.9 s\n"
     ]
    }
   ],
   "source": [
    "%%time\n",
    "best_model_for_rf = 100\n",
    "best_param_for_rf = 0\n",
    "for n in range(10, 100, 30):\n",
    "    for d in range(2,10,2):\n",
    "        model_rf_rougher = RandomForestRegressor(n_estimators=n, max_depth=d, random_state=state)\n",
    "        smape_rougher = cross_val_score(model_rf_rougher,\n",
    "                                  features_for_train_df,\n",
    "                                  target_for_rougher_on_train_df,\n",
    "                                  scoring=smape_scorer,\n",
    "                                  cv=5)\n",
    "        final_smape_rougher = smape_rougher.mean()\n",
    "\n",
    "        model_rf_final = RandomForestRegressor(n_estimators=n, max_depth=d, random_state=state)\n",
    "        smape_final = cross_val_score(model_rf_final,\n",
    "                                features_for_train_df,\n",
    "                                target_for_final_on_train_df,\n",
    "                                scoring=smape_scorer,\n",
    "                                cv=5)\n",
    "        final_smape_final = smape_final.mean()\n",
    "        result_smape = get_final_smape(final_smape_rougher, final_smape_final) #*(-1)\n",
    "        if result_smape < best_model_for_rf:\n",
    "            best_model_for_rf = result_smape\n",
    "            best_param_for_rf = [n,d]\n",
    "dct_with_scores['RF'] = [best_model_for_rf, best_param_for_rf]"
   ]
  },
  {
   "cell_type": "code",
   "execution_count": 41,
   "metadata": {},
   "outputs": [
    {
     "name": "stdout",
     "output_type": "stream",
     "text": [
      "\n",
      "МОДЕЛЬ LR С РЕЗУЛЬТАТОМ - 3.6250364257043994\n",
      "\n",
      "МОДЕЛЬ DT С РЕЗУЛЬТАТОМ - 3.2986210761889256\n"
     ]
    }
   ],
   "source": [
    "for key in dct_with_scores.keys():\n",
    "    print(f'\\nМОДЕЛЬ {str(key).upper()} С РЕЗУЛЬТАТОМ - {dct_with_scores[key][0]}')"
   ]
  },
  {
   "cell_type": "markdown",
   "metadata": {},
   "source": [
    "Лучшая модель - RandomForestRegressor\n",
    "\n",
    "Применим лучшую модель на тестовой выборке\n",
    "\n",
    "Подготовим данные для тестирования"
   ]
  },
  {
   "cell_type": "code",
   "execution_count": 40,
   "metadata": {},
   "outputs": [
    {
     "name": "stdout",
     "output_type": "stream",
     "text": [
      "\n",
      "ЛУЧШИЕ ПАРАМЕТРЫ ДЛЯ МОДЕЛИ RF: N_ESTIMATORS - 10, MAX_DEPTH - 4\n"
     ]
    }
   ],
   "source": [
    "print('\\nЛУЧШИЕ ПАРАМЕТРЫ ДЛЯ МОДЕЛИ RF: N_ESTIMATORS - {}, MAX_DEPTH - {}'.format(dct_with_scores['RF'][1][0], dct_with_scores['RF'][1][1]))"
   ]
  },
  {
   "cell_type": "code",
   "execution_count": 40,
   "metadata": {},
   "outputs": [],
   "source": [
    "features_for_test_df = test_df.drop(['rougher.output.recovery','final.output.recovery'], axis=1)\n",
    "target_for_rougher_on_test_df = test_df['rougher.output.recovery']\n",
    "target_for_final_on_test_df = test_df['final.output.recovery']"
   ]
  },
  {
   "cell_type": "code",
   "execution_count": 41,
   "metadata": {},
   "outputs": [],
   "source": [
    "model_for_test_rougher = RandomForestRegressor(n_estimators=10, max_depth=4, random_state=state)\n",
    "model_for_test_rougher.fit(features_for_train_df, target_for_rougher_on_train_df)\n",
    "predicted_rougher = model_for_test_rougher.predict(features_for_test_df)\n",
    "\n",
    "model_for_test_final = RandomForestRegressor(n_estimators=10, max_depth=4, random_state=state)\n",
    "model_for_test_final.fit(features_for_train_df, target_for_final_on_train_df)\n",
    "predicted_final = model_for_test_final.predict(features_for_test_df)\n",
    "\n",
    "smape_for_test_rougher = get_smape(target_for_rougher_on_test_df, predicted_rougher)\n",
    "smape_for_test_final = get_smape(target_for_final_on_test_df, predicted_final)\n",
    "final_smape_for_test = get_final_smape(smape_for_test_rougher, smape_for_test_final)"
   ]
  },
  {
   "cell_type": "code",
   "execution_count": 42,
   "metadata": {},
   "outputs": [
    {
     "name": "stdout",
     "output_type": "stream",
     "text": [
      "\n",
      "SMAPE ДЛЯ ТЕСТОВОЙ ВЫБОРКИ СОСТОВЛЯЕТ - 9.504033186609172\n"
     ]
    }
   ],
   "source": [
    "print(f'\\nSMAPE ДЛЯ ТЕСТОВОЙ ВЫБОРКИ СОСТОВЛЯЕТ - {final_smape_for_test}')"
   ]
  },
  {
   "cell_type": "markdown",
   "metadata": {},
   "source": [
    "Проверим полученную модель на адекватность. Вычислим показатель sMape для константной модели и сравним с результатами лучшей модели."
   ]
  },
  {
   "cell_type": "code",
   "execution_count": 43,
   "metadata": {},
   "outputs": [],
   "source": [
    "dummy_regr_for_rougher = DummyRegressor(strategy=\"mean\")\n",
    "dummy_regr_for_final = DummyRegressor(strategy=\"mean\")\n",
    "\n",
    "dummy_regr_for_rougher.fit(features_for_train_df, target_for_rougher_on_train_df)\n",
    "dummy_regr_for_final.fit(features_for_train_df, target_for_final_on_train_df)\n",
    "\n",
    "dummy_predicted_rougher = dummy_regr_for_rougher.predict(features_for_test_df)\n",
    "dummy_predicted_final = dummy_regr_for_final.predict(features_for_test_df)\n",
    "\n",
    "smape_for_const_rougher = get_smape(target_for_rougher_on_test_df, dummy_predicted_rougher)\n",
    "smape_for_const_final = get_smape(target_for_final_on_test_df, dummy_predicted_final)\n",
    "\n",
    "final_smape_for_const = get_final_smape(smape_for_const_rougher, smape_for_const_final)"
   ]
  },
  {
   "cell_type": "code",
   "execution_count": 44,
   "metadata": {},
   "outputs": [
    {
     "name": "stdout",
     "output_type": "stream",
     "text": [
      "\n",
      "ПОКАЗАТЕЛЬ SMAPE ДЛЯ КОНСТАНТНОЙ МОДЕЛИ - 9.82146839182027\n"
     ]
    }
   ],
   "source": [
    "print(f'\\nПОКАЗАТЕЛЬ SMAPE ДЛЯ КОНСТАНТНОЙ МОДЕЛИ - {final_smape_for_const}')"
   ]
  },
  {
   "cell_type": "markdown",
   "metadata": {},
   "source": [
    "Показатель модели RandomForestRegressor намного меньше показателя константной, что означает хорошее качество полученной модели."
   ]
  },
  {
   "cell_type": "markdown",
   "metadata": {},
   "source": [
    "<b>Вывод</b>\n",
    "\n",
    "Признаки, отсутствующие в тестовой выборке, были удалены из тренировочной выборки в избежание утечки целевого признака, что могло навредить качеству обучения моделей.\n",
    "\n",
    "Лучшая модель - RandomForestRegressor\n",
    "\n",
    "Модель проверена на адекватность, ее показатель SMAPE намного меньше показателя константной модели."
   ]
  },
  {
   "cell_type": "markdown",
   "metadata": {},
   "source": [
    "## Чек-лист готовности проекта"
   ]
  },
  {
   "cell_type": "markdown",
   "metadata": {},
   "source": [
    "- [x]  Jupyter Notebook открыт\n",
    "- [x]  Весь код выполняется без ошибок\n",
    "- [x]  Ячейки с кодом расположены в порядке выполнения\n",
    "- [x]  Выполнен шаг 1: данные подготовлены\n",
    "    - [x]  Проверена формула вычисления эффективности обогащения\n",
    "    - [x]  Проанализированы признаки, недоступные в тестовой выборке\n",
    "    - [x]  Проведена предобработка данных\n",
    "- [x]  Выполнен шаг 2: данные проанализированы\n",
    "    - [x]  Исследовано изменение концентрации элементов на каждом этапе\n",
    "    - [x]  Проанализированы распределения размеров гранул на обучающей и тестовой выборках\n",
    "    - [x]  Исследованы суммарные концентрации\n",
    "- [x]  Выполнен шаг 3: построена модель прогнозирования\n",
    "    - [x]  Написана функция для вычисления итогового *sMAPE*\n",
    "    - [x]  Обучено и проверено несколько моделей\n",
    "    - [x]  Выбрана лучшая модель, её качество проверено на тестовой выборке"
   ]
  }
 ],
 "metadata": {
  "ExecuteTimeLog": [
   {
    "duration": 1456,
    "start_time": "2022-10-31T18:48:31.064Z"
   },
   {
    "duration": 461,
    "start_time": "2022-10-31T18:49:13.494Z"
   },
   {
    "duration": 416,
    "start_time": "2022-10-31T18:49:14.218Z"
   },
   {
    "duration": 304,
    "start_time": "2022-10-31T18:49:21.640Z"
   },
   {
    "duration": 69,
    "start_time": "2022-10-31T18:50:30.984Z"
   },
   {
    "duration": 60,
    "start_time": "2022-10-31T18:50:43.133Z"
   },
   {
    "duration": 71,
    "start_time": "2022-10-31T18:50:56.119Z"
   },
   {
    "duration": 1282,
    "start_time": "2022-10-31T18:51:35.968Z"
   },
   {
    "duration": 165,
    "start_time": "2022-10-31T18:51:37.251Z"
   },
   {
    "duration": 0,
    "start_time": "2022-10-31T18:51:37.418Z"
   },
   {
    "duration": 0,
    "start_time": "2022-10-31T18:51:37.419Z"
   },
   {
    "duration": 1060,
    "start_time": "2022-10-31T18:52:24.527Z"
   },
   {
    "duration": 144,
    "start_time": "2022-10-31T18:52:31.408Z"
   },
   {
    "duration": 512,
    "start_time": "2022-10-31T18:52:36.544Z"
   },
   {
    "duration": 3,
    "start_time": "2022-10-31T18:53:58.056Z"
   },
   {
    "duration": 145,
    "start_time": "2022-10-31T18:53:59.512Z"
   },
   {
    "duration": 263,
    "start_time": "2022-10-31T18:56:22.828Z"
   },
   {
    "duration": 89,
    "start_time": "2022-10-31T18:56:30.209Z"
   },
   {
    "duration": 356,
    "start_time": "2022-10-31T18:56:40.014Z"
   },
   {
    "duration": 3,
    "start_time": "2022-10-31T18:57:01.122Z"
   },
   {
    "duration": 28,
    "start_time": "2022-10-31T18:57:02.448Z"
   },
   {
    "duration": 197,
    "start_time": "2022-10-31T18:57:16.615Z"
   },
   {
    "duration": 25,
    "start_time": "2022-10-31T18:57:23.061Z"
   },
   {
    "duration": 24,
    "start_time": "2022-10-31T18:57:33.512Z"
   },
   {
    "duration": 204,
    "start_time": "2022-10-31T18:58:00.277Z"
   },
   {
    "duration": 24,
    "start_time": "2022-10-31T18:58:01.210Z"
   },
   {
    "duration": 25,
    "start_time": "2022-10-31T18:58:03.501Z"
   },
   {
    "duration": 511,
    "start_time": "2022-10-31T18:58:11.436Z"
   },
   {
    "duration": 6,
    "start_time": "2022-10-31T18:58:36.089Z"
   },
   {
    "duration": 8,
    "start_time": "2022-10-31T18:59:52.264Z"
   },
   {
    "duration": 5,
    "start_time": "2022-10-31T19:00:03.758Z"
   },
   {
    "duration": 10,
    "start_time": "2022-10-31T19:00:09.530Z"
   },
   {
    "duration": 1290,
    "start_time": "2022-10-31T19:00:59.478Z"
   },
   {
    "duration": 290,
    "start_time": "2022-10-31T19:01:00.769Z"
   },
   {
    "duration": 85,
    "start_time": "2022-10-31T19:01:01.061Z"
   },
   {
    "duration": 338,
    "start_time": "2022-10-31T19:01:01.148Z"
   },
   {
    "duration": 3,
    "start_time": "2022-10-31T19:01:01.487Z"
   },
   {
    "duration": 36,
    "start_time": "2022-10-31T19:01:01.491Z"
   },
   {
    "duration": 204,
    "start_time": "2022-10-31T19:01:01.529Z"
   },
   {
    "duration": 26,
    "start_time": "2022-10-31T19:01:01.734Z"
   },
   {
    "duration": 23,
    "start_time": "2022-10-31T19:01:01.761Z"
   },
   {
    "duration": 513,
    "start_time": "2022-10-31T19:01:01.786Z"
   },
   {
    "duration": 5,
    "start_time": "2022-10-31T19:01:02.300Z"
   },
   {
    "duration": 33,
    "start_time": "2022-10-31T19:01:02.306Z"
   },
   {
    "duration": 34,
    "start_time": "2022-10-31T19:01:02.340Z"
   },
   {
    "duration": 11,
    "start_time": "2022-10-31T19:01:02.375Z"
   },
   {
    "duration": 3,
    "start_time": "2022-10-31T19:02:05.191Z"
   },
   {
    "duration": 5,
    "start_time": "2022-10-31T19:02:55.064Z"
   },
   {
    "duration": 1262,
    "start_time": "2022-10-31T19:02:55.745Z"
   },
   {
    "duration": 1288,
    "start_time": "2022-10-31T19:03:26.725Z"
   },
   {
    "duration": 1314,
    "start_time": "2022-10-31T19:03:33.024Z"
   },
   {
    "duration": 68,
    "start_time": "2022-10-31T19:04:18.966Z"
   },
   {
    "duration": 7,
    "start_time": "2022-10-31T19:04:56.027Z"
   },
   {
    "duration": 503,
    "start_time": "2022-10-31T19:05:00.669Z"
   },
   {
    "duration": 516,
    "start_time": "2022-10-31T19:05:12.065Z"
   },
   {
    "duration": 1195,
    "start_time": "2022-10-31T19:06:33.245Z"
   },
   {
    "duration": 3,
    "start_time": "2022-10-31T19:06:36.398Z"
   },
   {
    "duration": 10,
    "start_time": "2022-10-31T19:06:37.020Z"
   },
   {
    "duration": 10,
    "start_time": "2022-10-31T19:06:53.731Z"
   },
   {
    "duration": 1152,
    "start_time": "2022-10-31T19:06:59.432Z"
   },
   {
    "duration": 1135,
    "start_time": "2022-10-31T19:07:06.101Z"
   },
   {
    "duration": 3,
    "start_time": "2022-10-31T19:07:16.805Z"
   },
   {
    "duration": 3,
    "start_time": "2022-10-31T19:07:17.341Z"
   },
   {
    "duration": 9,
    "start_time": "2022-10-31T19:07:18.313Z"
   },
   {
    "duration": 8,
    "start_time": "2022-10-31T19:07:25.987Z"
   },
   {
    "duration": 1100,
    "start_time": "2022-10-31T19:07:29.362Z"
   },
   {
    "duration": 82,
    "start_time": "2022-10-31T19:09:39.913Z"
   },
   {
    "duration": 23,
    "start_time": "2022-10-31T19:10:29.724Z"
   },
   {
    "duration": 26,
    "start_time": "2022-10-31T19:10:32.257Z"
   },
   {
    "duration": 26,
    "start_time": "2022-10-31T19:10:32.822Z"
   },
   {
    "duration": 1340,
    "start_time": "2022-10-31T19:15:51.544Z"
   },
   {
    "duration": 277,
    "start_time": "2022-10-31T19:15:52.886Z"
   },
   {
    "duration": 84,
    "start_time": "2022-10-31T19:15:53.164Z"
   },
   {
    "duration": 347,
    "start_time": "2022-10-31T19:15:53.250Z"
   },
   {
    "duration": 2,
    "start_time": "2022-10-31T19:15:53.599Z"
   },
   {
    "duration": 45,
    "start_time": "2022-10-31T19:15:53.603Z"
   },
   {
    "duration": 213,
    "start_time": "2022-10-31T19:15:53.649Z"
   },
   {
    "duration": 28,
    "start_time": "2022-10-31T19:15:53.864Z"
   },
   {
    "duration": 43,
    "start_time": "2022-10-31T19:15:53.894Z"
   },
   {
    "duration": 539,
    "start_time": "2022-10-31T19:15:53.941Z"
   },
   {
    "duration": 5,
    "start_time": "2022-10-31T19:15:54.482Z"
   },
   {
    "duration": 24,
    "start_time": "2022-10-31T19:15:54.489Z"
   },
   {
    "duration": 13,
    "start_time": "2022-10-31T19:15:54.514Z"
   },
   {
    "duration": 13,
    "start_time": "2022-10-31T19:15:54.528Z"
   },
   {
    "duration": 21,
    "start_time": "2022-10-31T19:15:54.542Z"
   },
   {
    "duration": 16,
    "start_time": "2022-10-31T19:15:54.564Z"
   },
   {
    "duration": 1439,
    "start_time": "2022-10-31T19:15:54.582Z"
   },
   {
    "duration": 1371,
    "start_time": "2022-10-31T19:15:56.023Z"
   },
   {
    "duration": 1346,
    "start_time": "2022-10-31T19:15:57.396Z"
   },
   {
    "duration": 91,
    "start_time": "2022-10-31T19:15:58.744Z"
   },
   {
    "duration": 0,
    "start_time": "2022-10-31T19:15:58.837Z"
   },
   {
    "duration": 0,
    "start_time": "2022-10-31T19:15:58.838Z"
   },
   {
    "duration": 0,
    "start_time": "2022-10-31T19:15:58.839Z"
   },
   {
    "duration": 0,
    "start_time": "2022-10-31T19:15:58.840Z"
   },
   {
    "duration": 0,
    "start_time": "2022-10-31T19:15:58.840Z"
   },
   {
    "duration": 0,
    "start_time": "2022-10-31T19:15:58.842Z"
   },
   {
    "duration": 0,
    "start_time": "2022-10-31T19:15:58.843Z"
   },
   {
    "duration": 0,
    "start_time": "2022-10-31T19:15:58.844Z"
   },
   {
    "duration": 0,
    "start_time": "2022-10-31T19:15:58.845Z"
   },
   {
    "duration": 0,
    "start_time": "2022-10-31T19:15:58.845Z"
   },
   {
    "duration": 0,
    "start_time": "2022-10-31T19:15:58.846Z"
   },
   {
    "duration": 0,
    "start_time": "2022-10-31T19:15:58.847Z"
   },
   {
    "duration": 0,
    "start_time": "2022-10-31T19:15:58.848Z"
   },
   {
    "duration": 0,
    "start_time": "2022-10-31T19:15:58.849Z"
   },
   {
    "duration": 0,
    "start_time": "2022-10-31T19:15:58.850Z"
   },
   {
    "duration": 0,
    "start_time": "2022-10-31T19:15:58.851Z"
   },
   {
    "duration": 0,
    "start_time": "2022-10-31T19:15:58.851Z"
   },
   {
    "duration": 0,
    "start_time": "2022-10-31T19:15:58.852Z"
   },
   {
    "duration": 0,
    "start_time": "2022-10-31T19:15:58.853Z"
   },
   {
    "duration": 0,
    "start_time": "2022-10-31T19:15:58.854Z"
   },
   {
    "duration": 0,
    "start_time": "2022-10-31T19:15:58.855Z"
   },
   {
    "duration": 0,
    "start_time": "2022-10-31T19:15:58.856Z"
   },
   {
    "duration": 0,
    "start_time": "2022-10-31T19:15:58.857Z"
   },
   {
    "duration": 0,
    "start_time": "2022-10-31T19:15:58.858Z"
   },
   {
    "duration": 0,
    "start_time": "2022-10-31T19:15:58.859Z"
   },
   {
    "duration": 0,
    "start_time": "2022-10-31T19:15:58.860Z"
   },
   {
    "duration": 0,
    "start_time": "2022-10-31T19:15:58.861Z"
   },
   {
    "duration": 4,
    "start_time": "2022-10-31T19:16:36.487Z"
   },
   {
    "duration": 449,
    "start_time": "2022-10-31T19:16:38.013Z"
   },
   {
    "duration": 504,
    "start_time": "2022-10-31T19:16:39.559Z"
   },
   {
    "duration": 2,
    "start_time": "2022-10-31T19:16:43.621Z"
   },
   {
    "duration": 3,
    "start_time": "2022-10-31T19:16:44.559Z"
   },
   {
    "duration": 6,
    "start_time": "2022-10-31T19:16:45.489Z"
   },
   {
    "duration": 1247,
    "start_time": "2022-10-31T19:16:46.515Z"
   },
   {
    "duration": 23,
    "start_time": "2022-10-31T19:16:54.409Z"
   },
   {
    "duration": 120,
    "start_time": "2022-10-31T19:16:56.541Z"
   },
   {
    "duration": 1254,
    "start_time": "2022-10-31T19:17:19.975Z"
   },
   {
    "duration": 266,
    "start_time": "2022-10-31T19:17:21.231Z"
   },
   {
    "duration": 77,
    "start_time": "2022-10-31T19:17:21.498Z"
   },
   {
    "duration": 337,
    "start_time": "2022-10-31T19:17:21.577Z"
   },
   {
    "duration": 6,
    "start_time": "2022-10-31T19:17:21.916Z"
   },
   {
    "duration": 34,
    "start_time": "2022-10-31T19:17:21.923Z"
   },
   {
    "duration": 208,
    "start_time": "2022-10-31T19:17:21.959Z"
   },
   {
    "duration": 24,
    "start_time": "2022-10-31T19:17:22.168Z"
   },
   {
    "duration": 35,
    "start_time": "2022-10-31T19:17:22.194Z"
   },
   {
    "duration": 513,
    "start_time": "2022-10-31T19:17:22.231Z"
   },
   {
    "duration": 6,
    "start_time": "2022-10-31T19:17:22.745Z"
   },
   {
    "duration": 11,
    "start_time": "2022-10-31T19:17:22.752Z"
   },
   {
    "duration": 17,
    "start_time": "2022-10-31T19:17:22.764Z"
   },
   {
    "duration": 8,
    "start_time": "2022-10-31T19:17:22.782Z"
   },
   {
    "duration": 8,
    "start_time": "2022-10-31T19:17:22.791Z"
   },
   {
    "duration": 6,
    "start_time": "2022-10-31T19:17:22.801Z"
   },
   {
    "duration": 1384,
    "start_time": "2022-10-31T19:17:22.809Z"
   },
   {
    "duration": 1399,
    "start_time": "2022-10-31T19:17:24.195Z"
   },
   {
    "duration": 1302,
    "start_time": "2022-10-31T19:17:25.596Z"
   },
   {
    "duration": 4,
    "start_time": "2022-10-31T19:17:26.899Z"
   },
   {
    "duration": 447,
    "start_time": "2022-10-31T19:17:26.905Z"
   },
   {
    "duration": 530,
    "start_time": "2022-10-31T19:17:27.354Z"
   },
   {
    "duration": 2,
    "start_time": "2022-10-31T19:17:27.886Z"
   },
   {
    "duration": 6,
    "start_time": "2022-10-31T19:17:27.890Z"
   },
   {
    "duration": 8,
    "start_time": "2022-10-31T19:17:27.898Z"
   },
   {
    "duration": 1038,
    "start_time": "2022-10-31T19:17:27.908Z"
   },
   {
    "duration": 22,
    "start_time": "2022-10-31T19:17:28.948Z"
   },
   {
    "duration": 133,
    "start_time": "2022-10-31T19:17:28.974Z"
   },
   {
    "duration": 0,
    "start_time": "2022-10-31T19:17:29.109Z"
   },
   {
    "duration": 0,
    "start_time": "2022-10-31T19:17:29.110Z"
   },
   {
    "duration": 0,
    "start_time": "2022-10-31T19:17:29.111Z"
   },
   {
    "duration": 0,
    "start_time": "2022-10-31T19:17:29.121Z"
   },
   {
    "duration": 0,
    "start_time": "2022-10-31T19:17:29.122Z"
   },
   {
    "duration": 0,
    "start_time": "2022-10-31T19:17:29.123Z"
   },
   {
    "duration": 0,
    "start_time": "2022-10-31T19:17:29.124Z"
   },
   {
    "duration": 0,
    "start_time": "2022-10-31T19:17:29.126Z"
   },
   {
    "duration": 0,
    "start_time": "2022-10-31T19:17:29.126Z"
   },
   {
    "duration": 0,
    "start_time": "2022-10-31T19:17:29.127Z"
   },
   {
    "duration": 0,
    "start_time": "2022-10-31T19:17:29.128Z"
   },
   {
    "duration": 0,
    "start_time": "2022-10-31T19:17:29.129Z"
   },
   {
    "duration": 0,
    "start_time": "2022-10-31T19:17:29.130Z"
   },
   {
    "duration": 0,
    "start_time": "2022-10-31T19:17:29.131Z"
   },
   {
    "duration": 0,
    "start_time": "2022-10-31T19:17:29.132Z"
   },
   {
    "duration": 0,
    "start_time": "2022-10-31T19:17:29.133Z"
   },
   {
    "duration": 0,
    "start_time": "2022-10-31T19:17:29.134Z"
   },
   {
    "duration": 0,
    "start_time": "2022-10-31T19:17:29.135Z"
   },
   {
    "duration": 1280,
    "start_time": "2022-10-31T19:32:22.581Z"
   },
   {
    "duration": 262,
    "start_time": "2022-10-31T19:32:23.863Z"
   },
   {
    "duration": 83,
    "start_time": "2022-10-31T19:32:24.127Z"
   },
   {
    "duration": 326,
    "start_time": "2022-10-31T19:32:24.212Z"
   },
   {
    "duration": 2,
    "start_time": "2022-10-31T19:32:24.540Z"
   },
   {
    "duration": 47,
    "start_time": "2022-10-31T19:32:24.543Z"
   },
   {
    "duration": 206,
    "start_time": "2022-10-31T19:32:24.592Z"
   },
   {
    "duration": 36,
    "start_time": "2022-10-31T19:32:24.800Z"
   },
   {
    "duration": 24,
    "start_time": "2022-10-31T19:32:24.838Z"
   },
   {
    "duration": 528,
    "start_time": "2022-10-31T19:32:24.865Z"
   },
   {
    "duration": 5,
    "start_time": "2022-10-31T19:32:25.395Z"
   },
   {
    "duration": 10,
    "start_time": "2022-10-31T19:32:25.401Z"
   },
   {
    "duration": 28,
    "start_time": "2022-10-31T19:32:25.421Z"
   },
   {
    "duration": 12,
    "start_time": "2022-10-31T19:32:25.450Z"
   },
   {
    "duration": 4,
    "start_time": "2022-10-31T19:32:25.463Z"
   },
   {
    "duration": 6,
    "start_time": "2022-10-31T19:32:25.468Z"
   },
   {
    "duration": 1424,
    "start_time": "2022-10-31T19:32:25.476Z"
   },
   {
    "duration": 1319,
    "start_time": "2022-10-31T19:32:26.901Z"
   },
   {
    "duration": 1379,
    "start_time": "2022-10-31T19:32:28.222Z"
   },
   {
    "duration": 4,
    "start_time": "2022-10-31T19:32:29.603Z"
   },
   {
    "duration": 473,
    "start_time": "2022-10-31T19:32:29.608Z"
   },
   {
    "duration": 523,
    "start_time": "2022-10-31T19:32:30.082Z"
   },
   {
    "duration": 3,
    "start_time": "2022-10-31T19:32:30.607Z"
   },
   {
    "duration": 35,
    "start_time": "2022-10-31T19:32:30.612Z"
   },
   {
    "duration": 26,
    "start_time": "2022-10-31T19:32:30.649Z"
   },
   {
    "duration": 1405,
    "start_time": "2022-10-31T19:32:30.677Z"
   },
   {
    "duration": 22,
    "start_time": "2022-10-31T19:32:32.084Z"
   },
   {
    "duration": 150,
    "start_time": "2022-10-31T19:32:32.111Z"
   },
   {
    "duration": 0,
    "start_time": "2022-10-31T19:32:32.263Z"
   },
   {
    "duration": 0,
    "start_time": "2022-10-31T19:32:32.264Z"
   },
   {
    "duration": 0,
    "start_time": "2022-10-31T19:32:32.265Z"
   },
   {
    "duration": 0,
    "start_time": "2022-10-31T19:32:32.266Z"
   },
   {
    "duration": 0,
    "start_time": "2022-10-31T19:32:32.267Z"
   },
   {
    "duration": 0,
    "start_time": "2022-10-31T19:32:32.268Z"
   },
   {
    "duration": 0,
    "start_time": "2022-10-31T19:32:32.269Z"
   },
   {
    "duration": 0,
    "start_time": "2022-10-31T19:32:32.270Z"
   },
   {
    "duration": 0,
    "start_time": "2022-10-31T19:32:32.271Z"
   },
   {
    "duration": 0,
    "start_time": "2022-10-31T19:32:32.272Z"
   },
   {
    "duration": 0,
    "start_time": "2022-10-31T19:32:32.273Z"
   },
   {
    "duration": 0,
    "start_time": "2022-10-31T19:32:32.274Z"
   },
   {
    "duration": 0,
    "start_time": "2022-10-31T19:32:32.275Z"
   },
   {
    "duration": 0,
    "start_time": "2022-10-31T19:32:32.276Z"
   },
   {
    "duration": 0,
    "start_time": "2022-10-31T19:32:32.277Z"
   },
   {
    "duration": 0,
    "start_time": "2022-10-31T19:32:32.278Z"
   },
   {
    "duration": 0,
    "start_time": "2022-10-31T19:32:32.279Z"
   },
   {
    "duration": 0,
    "start_time": "2022-10-31T19:32:32.280Z"
   },
   {
    "duration": 32,
    "start_time": "2022-10-31T19:33:11.068Z"
   },
   {
    "duration": 1141,
    "start_time": "2022-10-31T19:33:30.599Z"
   },
   {
    "duration": 1083,
    "start_time": "2022-10-31T19:33:47.142Z"
   },
   {
    "duration": 23,
    "start_time": "2022-10-31T19:34:02.354Z"
   },
   {
    "duration": 31,
    "start_time": "2022-10-31T19:34:34.896Z"
   },
   {
    "duration": 3,
    "start_time": "2022-10-31T19:36:02.281Z"
   },
   {
    "duration": 3,
    "start_time": "2022-10-31T19:36:11.968Z"
   },
   {
    "duration": 10,
    "start_time": "2022-10-31T19:41:07.215Z"
   },
   {
    "duration": 4,
    "start_time": "2022-10-31T19:43:00.254Z"
   },
   {
    "duration": 4,
    "start_time": "2022-10-31T19:43:10.264Z"
   },
   {
    "duration": 7,
    "start_time": "2022-10-31T19:43:21.172Z"
   },
   {
    "duration": 71,
    "start_time": "2022-10-31T19:43:55.497Z"
   },
   {
    "duration": 1141,
    "start_time": "2022-10-31T19:44:09.179Z"
   },
   {
    "duration": 1087,
    "start_time": "2022-10-31T19:45:15.500Z"
   },
   {
    "duration": 1334,
    "start_time": "2022-10-31T19:45:27.141Z"
   },
   {
    "duration": 257,
    "start_time": "2022-10-31T19:45:28.477Z"
   },
   {
    "duration": 74,
    "start_time": "2022-10-31T19:45:28.735Z"
   },
   {
    "duration": 332,
    "start_time": "2022-10-31T19:45:28.811Z"
   },
   {
    "duration": 3,
    "start_time": "2022-10-31T19:45:29.144Z"
   },
   {
    "duration": 43,
    "start_time": "2022-10-31T19:45:29.149Z"
   },
   {
    "duration": 211,
    "start_time": "2022-10-31T19:45:29.195Z"
   },
   {
    "duration": 36,
    "start_time": "2022-10-31T19:45:29.408Z"
   },
   {
    "duration": 25,
    "start_time": "2022-10-31T19:45:29.446Z"
   },
   {
    "duration": 527,
    "start_time": "2022-10-31T19:45:29.474Z"
   },
   {
    "duration": 5,
    "start_time": "2022-10-31T19:45:30.003Z"
   },
   {
    "duration": 23,
    "start_time": "2022-10-31T19:45:30.010Z"
   },
   {
    "duration": 22,
    "start_time": "2022-10-31T19:45:30.035Z"
   },
   {
    "duration": 24,
    "start_time": "2022-10-31T19:45:30.059Z"
   },
   {
    "duration": 21,
    "start_time": "2022-10-31T19:45:30.085Z"
   },
   {
    "duration": 27,
    "start_time": "2022-10-31T19:45:30.109Z"
   },
   {
    "duration": 1439,
    "start_time": "2022-10-31T19:45:30.137Z"
   },
   {
    "duration": 1468,
    "start_time": "2022-10-31T19:45:31.578Z"
   },
   {
    "duration": 1296,
    "start_time": "2022-10-31T19:45:33.047Z"
   },
   {
    "duration": 4,
    "start_time": "2022-10-31T19:45:34.345Z"
   },
   {
    "duration": 549,
    "start_time": "2022-10-31T19:45:34.351Z"
   },
   {
    "duration": 526,
    "start_time": "2022-10-31T19:45:34.903Z"
   },
   {
    "duration": 3,
    "start_time": "2022-10-31T19:45:35.431Z"
   },
   {
    "duration": 8,
    "start_time": "2022-10-31T19:45:35.435Z"
   },
   {
    "duration": 9,
    "start_time": "2022-10-31T19:45:35.445Z"
   },
   {
    "duration": 1198,
    "start_time": "2022-10-31T19:45:35.455Z"
   },
   {
    "duration": 5,
    "start_time": "2022-10-31T19:45:36.655Z"
   },
   {
    "duration": 14,
    "start_time": "2022-10-31T19:45:36.663Z"
   },
   {
    "duration": 27,
    "start_time": "2022-10-31T19:45:36.679Z"
   },
   {
    "duration": 6,
    "start_time": "2022-10-31T19:45:59.163Z"
   },
   {
    "duration": 6,
    "start_time": "2022-10-31T19:46:08.410Z"
   },
   {
    "duration": 8,
    "start_time": "2022-10-31T19:46:08.818Z"
   },
   {
    "duration": 4,
    "start_time": "2022-10-31T19:46:09.696Z"
   },
   {
    "duration": 3,
    "start_time": "2022-10-31T19:46:33.179Z"
   },
   {
    "duration": 107,
    "start_time": "2022-10-31T19:46:34.056Z"
   },
   {
    "duration": 25,
    "start_time": "2022-10-31T19:46:59.921Z"
   },
   {
    "duration": 4,
    "start_time": "2022-10-31T19:47:05.787Z"
   },
   {
    "duration": 9,
    "start_time": "2022-10-31T19:48:24.261Z"
   },
   {
    "duration": 9,
    "start_time": "2022-10-31T19:48:36.655Z"
   },
   {
    "duration": 9,
    "start_time": "2022-10-31T19:49:13.255Z"
   },
   {
    "duration": 24,
    "start_time": "2022-10-31T19:49:30.430Z"
   },
   {
    "duration": 12,
    "start_time": "2022-10-31T19:49:54.235Z"
   },
   {
    "duration": 30,
    "start_time": "2022-10-31T19:50:02.677Z"
   },
   {
    "duration": 25,
    "start_time": "2022-10-31T19:50:47.935Z"
   },
   {
    "duration": 9,
    "start_time": "2022-10-31T19:53:00.614Z"
   },
   {
    "duration": 2,
    "start_time": "2022-10-31T19:53:07.955Z"
   },
   {
    "duration": 3,
    "start_time": "2022-10-31T19:53:14.565Z"
   },
   {
    "duration": 4,
    "start_time": "2022-10-31T19:54:07.192Z"
   },
   {
    "duration": 603,
    "start_time": "2022-10-31T19:54:22.906Z"
   },
   {
    "duration": 19,
    "start_time": "2022-10-31T19:54:31.200Z"
   },
   {
    "duration": 18,
    "start_time": "2022-10-31T19:54:35.712Z"
   },
   {
    "duration": 18,
    "start_time": "2022-10-31T19:54:50.719Z"
   },
   {
    "duration": 12,
    "start_time": "2022-10-31T19:54:56.803Z"
   },
   {
    "duration": 17,
    "start_time": "2022-10-31T19:55:03.499Z"
   },
   {
    "duration": 17,
    "start_time": "2022-10-31T19:55:08.579Z"
   },
   {
    "duration": 70,
    "start_time": "2022-10-31T19:55:47.186Z"
   },
   {
    "duration": 9,
    "start_time": "2022-10-31T19:55:56.278Z"
   },
   {
    "duration": 7,
    "start_time": "2022-10-31T19:56:01.774Z"
   },
   {
    "duration": 9,
    "start_time": "2022-10-31T19:56:11.239Z"
   },
   {
    "duration": 219,
    "start_time": "2022-10-31T19:56:34.225Z"
   },
   {
    "duration": 26,
    "start_time": "2022-10-31T19:57:02.681Z"
   },
   {
    "duration": 4,
    "start_time": "2022-10-31T19:57:24.205Z"
   },
   {
    "duration": 4,
    "start_time": "2022-10-31T19:57:27.709Z"
   },
   {
    "duration": 4,
    "start_time": "2022-10-31T19:57:43.080Z"
   },
   {
    "duration": 3,
    "start_time": "2022-10-31T19:57:44.018Z"
   },
   {
    "duration": 3,
    "start_time": "2022-10-31T19:57:44.507Z"
   },
   {
    "duration": 3,
    "start_time": "2022-10-31T19:57:50.505Z"
   },
   {
    "duration": 4,
    "start_time": "2022-10-31T19:57:57.856Z"
   },
   {
    "duration": 4,
    "start_time": "2022-10-31T19:58:18.397Z"
   },
   {
    "duration": 3,
    "start_time": "2022-10-31T19:58:23.255Z"
   },
   {
    "duration": 4,
    "start_time": "2022-10-31T19:58:23.660Z"
   },
   {
    "duration": 8,
    "start_time": "2022-10-31T19:58:38.356Z"
   },
   {
    "duration": 1266,
    "start_time": "2022-10-31T19:58:42.381Z"
   },
   {
    "duration": 639,
    "start_time": "2022-10-31T19:58:43.649Z"
   },
   {
    "duration": 22,
    "start_time": "2022-10-31T19:58:44.290Z"
   },
   {
    "duration": 17,
    "start_time": "2022-10-31T19:58:44.322Z"
   },
   {
    "duration": 18,
    "start_time": "2022-10-31T19:58:44.340Z"
   },
   {
    "duration": 11,
    "start_time": "2022-10-31T19:58:44.359Z"
   },
   {
    "duration": 17,
    "start_time": "2022-10-31T19:58:44.372Z"
   },
   {
    "duration": 42,
    "start_time": "2022-10-31T19:58:44.390Z"
   },
   {
    "duration": 8,
    "start_time": "2022-10-31T19:58:44.433Z"
   },
   {
    "duration": 8,
    "start_time": "2022-10-31T19:58:44.444Z"
   },
   {
    "duration": 15,
    "start_time": "2022-10-31T19:58:44.453Z"
   },
   {
    "duration": 64,
    "start_time": "2022-10-31T19:58:44.469Z"
   },
   {
    "duration": 0,
    "start_time": "2022-10-31T19:58:44.534Z"
   },
   {
    "duration": 0,
    "start_time": "2022-10-31T19:58:44.535Z"
   },
   {
    "duration": 0,
    "start_time": "2022-10-31T19:58:44.536Z"
   },
   {
    "duration": 0,
    "start_time": "2022-10-31T19:58:44.537Z"
   },
   {
    "duration": 0,
    "start_time": "2022-10-31T19:58:44.538Z"
   },
   {
    "duration": 0,
    "start_time": "2022-10-31T19:58:44.539Z"
   },
   {
    "duration": 0,
    "start_time": "2022-10-31T19:58:44.540Z"
   },
   {
    "duration": 0,
    "start_time": "2022-10-31T19:58:44.540Z"
   },
   {
    "duration": 0,
    "start_time": "2022-10-31T19:58:44.541Z"
   },
   {
    "duration": 0,
    "start_time": "2022-10-31T19:58:44.542Z"
   },
   {
    "duration": 0,
    "start_time": "2022-10-31T19:58:44.543Z"
   },
   {
    "duration": 0,
    "start_time": "2022-10-31T19:58:44.544Z"
   },
   {
    "duration": 0,
    "start_time": "2022-10-31T19:58:44.544Z"
   },
   {
    "duration": 0,
    "start_time": "2022-10-31T19:58:44.545Z"
   },
   {
    "duration": 0,
    "start_time": "2022-10-31T19:58:44.546Z"
   },
   {
    "duration": 0,
    "start_time": "2022-10-31T19:58:44.547Z"
   },
   {
    "duration": 0,
    "start_time": "2022-10-31T19:58:44.548Z"
   },
   {
    "duration": 0,
    "start_time": "2022-10-31T19:58:44.549Z"
   },
   {
    "duration": 0,
    "start_time": "2022-10-31T19:58:44.549Z"
   },
   {
    "duration": 0,
    "start_time": "2022-10-31T19:58:44.550Z"
   },
   {
    "duration": 0,
    "start_time": "2022-10-31T19:58:44.552Z"
   },
   {
    "duration": 0,
    "start_time": "2022-10-31T19:58:44.552Z"
   },
   {
    "duration": 0,
    "start_time": "2022-10-31T19:58:44.553Z"
   },
   {
    "duration": 0,
    "start_time": "2022-10-31T19:58:44.554Z"
   },
   {
    "duration": 0,
    "start_time": "2022-10-31T19:58:44.555Z"
   },
   {
    "duration": 221,
    "start_time": "2022-10-31T19:59:05.499Z"
   },
   {
    "duration": 27,
    "start_time": "2022-10-31T19:59:07.135Z"
   },
   {
    "duration": 5,
    "start_time": "2022-10-31T19:59:08.749Z"
   },
   {
    "duration": 4,
    "start_time": "2022-10-31T19:59:09.579Z"
   },
   {
    "duration": 114,
    "start_time": "2022-10-31T19:59:11.004Z"
   },
   {
    "duration": 8,
    "start_time": "2022-10-31T19:59:20.700Z"
   },
   {
    "duration": 3,
    "start_time": "2022-10-31T19:59:32.685Z"
   },
   {
    "duration": 4,
    "start_time": "2022-10-31T19:59:33.580Z"
   },
   {
    "duration": 4,
    "start_time": "2022-10-31T19:59:36.133Z"
   },
   {
    "duration": 2,
    "start_time": "2022-10-31T19:59:37.538Z"
   },
   {
    "duration": 9,
    "start_time": "2022-10-31T19:59:39.368Z"
   },
   {
    "duration": 11,
    "start_time": "2022-10-31T19:59:50.728Z"
   },
   {
    "duration": 12,
    "start_time": "2022-10-31T20:00:00.698Z"
   },
   {
    "duration": 15,
    "start_time": "2022-10-31T20:00:08.534Z"
   },
   {
    "duration": 15,
    "start_time": "2022-10-31T20:00:11.116Z"
   },
   {
    "duration": 8,
    "start_time": "2022-10-31T20:00:17.635Z"
   },
   {
    "duration": 17,
    "start_time": "2022-10-31T20:00:19.119Z"
   },
   {
    "duration": 77,
    "start_time": "2022-10-31T20:00:19.989Z"
   },
   {
    "duration": 11,
    "start_time": "2022-10-31T20:00:30.806Z"
   },
   {
    "duration": 14,
    "start_time": "2022-10-31T20:00:41.676Z"
   },
   {
    "duration": 1316,
    "start_time": "2022-10-31T20:00:55.737Z"
   },
   {
    "duration": 640,
    "start_time": "2022-10-31T20:00:57.055Z"
   },
   {
    "duration": 27,
    "start_time": "2022-10-31T20:00:57.696Z"
   },
   {
    "duration": 15,
    "start_time": "2022-10-31T20:00:57.725Z"
   },
   {
    "duration": 17,
    "start_time": "2022-10-31T20:00:57.742Z"
   },
   {
    "duration": 12,
    "start_time": "2022-10-31T20:00:57.760Z"
   },
   {
    "duration": 19,
    "start_time": "2022-10-31T20:00:57.773Z"
   },
   {
    "duration": 35,
    "start_time": "2022-10-31T20:00:57.794Z"
   },
   {
    "duration": 8,
    "start_time": "2022-10-31T20:00:57.831Z"
   },
   {
    "duration": 11,
    "start_time": "2022-10-31T20:00:57.842Z"
   },
   {
    "duration": 11,
    "start_time": "2022-10-31T20:00:57.854Z"
   },
   {
    "duration": 246,
    "start_time": "2022-10-31T20:00:57.867Z"
   },
   {
    "duration": 29,
    "start_time": "2022-10-31T20:00:58.115Z"
   },
   {
    "duration": 5,
    "start_time": "2022-10-31T20:00:58.146Z"
   },
   {
    "duration": 5,
    "start_time": "2022-10-31T20:00:58.153Z"
   },
   {
    "duration": 4,
    "start_time": "2022-10-31T20:00:58.159Z"
   },
   {
    "duration": 8,
    "start_time": "2022-10-31T20:00:58.164Z"
   },
   {
    "duration": 5,
    "start_time": "2022-10-31T20:00:58.173Z"
   },
   {
    "duration": 4,
    "start_time": "2022-10-31T20:00:58.180Z"
   },
   {
    "duration": 38,
    "start_time": "2022-10-31T20:00:58.186Z"
   },
   {
    "duration": 10,
    "start_time": "2022-10-31T20:00:58.226Z"
   },
   {
    "duration": 10,
    "start_time": "2022-10-31T20:00:58.237Z"
   },
   {
    "duration": 3,
    "start_time": "2022-10-31T20:00:58.248Z"
   },
   {
    "duration": 74,
    "start_time": "2022-10-31T20:00:58.252Z"
   },
   {
    "duration": 0,
    "start_time": "2022-10-31T20:00:58.328Z"
   },
   {
    "duration": 0,
    "start_time": "2022-10-31T20:00:58.329Z"
   },
   {
    "duration": 0,
    "start_time": "2022-10-31T20:00:58.330Z"
   },
   {
    "duration": 0,
    "start_time": "2022-10-31T20:00:58.331Z"
   },
   {
    "duration": 0,
    "start_time": "2022-10-31T20:00:58.332Z"
   },
   {
    "duration": 0,
    "start_time": "2022-10-31T20:00:58.333Z"
   },
   {
    "duration": 0,
    "start_time": "2022-10-31T20:00:58.334Z"
   },
   {
    "duration": 0,
    "start_time": "2022-10-31T20:00:58.334Z"
   },
   {
    "duration": 0,
    "start_time": "2022-10-31T20:00:58.335Z"
   },
   {
    "duration": 0,
    "start_time": "2022-10-31T20:00:58.336Z"
   },
   {
    "duration": 0,
    "start_time": "2022-10-31T20:00:58.337Z"
   },
   {
    "duration": 0,
    "start_time": "2022-10-31T20:00:58.338Z"
   },
   {
    "duration": 0,
    "start_time": "2022-10-31T20:00:58.339Z"
   },
   {
    "duration": 0,
    "start_time": "2022-10-31T20:00:58.339Z"
   },
   {
    "duration": 0,
    "start_time": "2022-10-31T20:00:58.340Z"
   },
   {
    "duration": 3,
    "start_time": "2022-10-31T20:01:24.478Z"
   },
   {
    "duration": 86,
    "start_time": "2022-10-31T20:02:01.827Z"
   },
   {
    "duration": 3071,
    "start_time": "2022-10-31T20:02:31.409Z"
   },
   {
    "duration": 520,
    "start_time": "2022-10-31T20:03:13.143Z"
   },
   {
    "duration": 7,
    "start_time": "2022-10-31T20:03:53.887Z"
   },
   {
    "duration": 2061,
    "start_time": "2022-10-31T20:03:54.542Z"
   },
   {
    "duration": 70,
    "start_time": "2022-10-31T20:04:21.173Z"
   },
   {
    "duration": 31,
    "start_time": "2022-10-31T20:04:36.960Z"
   },
   {
    "duration": 84,
    "start_time": "2022-10-31T20:05:02.682Z"
   },
   {
    "duration": 3,
    "start_time": "2022-10-31T20:05:51.072Z"
   },
   {
    "duration": 4,
    "start_time": "2022-10-31T20:05:51.446Z"
   },
   {
    "duration": 8,
    "start_time": "2022-10-31T20:06:00.359Z"
   },
   {
    "duration": 4,
    "start_time": "2022-10-31T20:06:12.121Z"
   },
   {
    "duration": 2,
    "start_time": "2022-10-31T20:06:16.835Z"
   },
   {
    "duration": 98,
    "start_time": "2022-10-31T20:06:28.843Z"
   },
   {
    "duration": 2,
    "start_time": "2022-10-31T20:07:44.111Z"
   },
   {
    "duration": 5,
    "start_time": "2022-10-31T20:08:04.294Z"
   },
   {
    "duration": 3,
    "start_time": "2022-10-31T20:08:14.282Z"
   },
   {
    "duration": 3,
    "start_time": "2022-10-31T20:08:17.693Z"
   },
   {
    "duration": 163,
    "start_time": "2022-10-31T20:10:05.700Z"
   },
   {
    "duration": 2,
    "start_time": "2022-10-31T20:10:07.984Z"
   },
   {
    "duration": 2,
    "start_time": "2022-10-31T20:10:28.607Z"
   },
   {
    "duration": 12,
    "start_time": "2022-10-31T20:10:28.610Z"
   },
   {
    "duration": 2,
    "start_time": "2022-10-31T20:10:28.624Z"
   },
   {
    "duration": 5,
    "start_time": "2022-10-31T20:10:28.628Z"
   },
   {
    "duration": 7,
    "start_time": "2022-10-31T20:10:28.634Z"
   },
   {
    "duration": 10,
    "start_time": "2022-10-31T20:10:28.642Z"
   },
   {
    "duration": 13,
    "start_time": "2022-10-31T20:10:28.653Z"
   },
   {
    "duration": 2558,
    "start_time": "2022-10-31T20:10:28.667Z"
   },
   {
    "duration": 3,
    "start_time": "2022-10-31T20:10:31.227Z"
   },
   {
    "duration": 20555,
    "start_time": "2022-10-31T20:10:31.232Z"
   },
   {
    "duration": 1344,
    "start_time": "2022-10-31T20:12:19.595Z"
   },
   {
    "duration": 645,
    "start_time": "2022-10-31T20:12:20.942Z"
   },
   {
    "duration": 22,
    "start_time": "2022-10-31T20:12:21.589Z"
   },
   {
    "duration": 17,
    "start_time": "2022-10-31T20:12:21.621Z"
   },
   {
    "duration": 18,
    "start_time": "2022-10-31T20:12:21.640Z"
   },
   {
    "duration": 11,
    "start_time": "2022-10-31T20:12:21.659Z"
   },
   {
    "duration": 51,
    "start_time": "2022-10-31T20:12:21.671Z"
   },
   {
    "duration": 22,
    "start_time": "2022-10-31T20:12:21.724Z"
   },
   {
    "duration": 10,
    "start_time": "2022-10-31T20:12:21.748Z"
   },
   {
    "duration": 12,
    "start_time": "2022-10-31T20:12:21.760Z"
   },
   {
    "duration": 16,
    "start_time": "2022-10-31T20:12:21.774Z"
   },
   {
    "duration": 241,
    "start_time": "2022-10-31T20:12:21.791Z"
   },
   {
    "duration": 27,
    "start_time": "2022-10-31T20:12:22.034Z"
   },
   {
    "duration": 6,
    "start_time": "2022-10-31T20:12:22.062Z"
   },
   {
    "duration": 10,
    "start_time": "2022-10-31T20:12:22.069Z"
   },
   {
    "duration": 4,
    "start_time": "2022-10-31T20:12:22.081Z"
   },
   {
    "duration": 7,
    "start_time": "2022-10-31T20:12:22.086Z"
   },
   {
    "duration": 5,
    "start_time": "2022-10-31T20:12:22.094Z"
   },
   {
    "duration": 8,
    "start_time": "2022-10-31T20:12:22.100Z"
   },
   {
    "duration": 8,
    "start_time": "2022-10-31T20:12:22.122Z"
   },
   {
    "duration": 9,
    "start_time": "2022-10-31T20:12:22.132Z"
   },
   {
    "duration": 11,
    "start_time": "2022-10-31T20:12:22.142Z"
   },
   {
    "duration": 3,
    "start_time": "2022-10-31T20:12:22.154Z"
   },
   {
    "duration": 2806,
    "start_time": "2022-10-31T20:12:22.158Z"
   },
   {
    "duration": 446,
    "start_time": "2022-10-31T20:12:24.966Z"
   },
   {
    "duration": 10,
    "start_time": "2022-10-31T20:12:25.415Z"
   },
   {
    "duration": 2040,
    "start_time": "2022-10-31T20:12:25.426Z"
   },
   {
    "duration": 30,
    "start_time": "2022-10-31T20:12:27.469Z"
   },
   {
    "duration": 2,
    "start_time": "2022-10-31T20:12:27.501Z"
   },
   {
    "duration": 18,
    "start_time": "2022-10-31T20:12:27.504Z"
   },
   {
    "duration": 6,
    "start_time": "2022-10-31T20:12:27.523Z"
   },
   {
    "duration": 8,
    "start_time": "2022-10-31T20:12:27.530Z"
   },
   {
    "duration": 4,
    "start_time": "2022-10-31T20:12:27.540Z"
   },
   {
    "duration": 11,
    "start_time": "2022-10-31T20:12:27.546Z"
   },
   {
    "duration": 4,
    "start_time": "2022-10-31T20:12:27.559Z"
   },
   {
    "duration": 3263,
    "start_time": "2022-10-31T20:12:27.565Z"
   },
   {
    "duration": 3,
    "start_time": "2022-10-31T20:12:30.830Z"
   },
   {
    "duration": 33213,
    "start_time": "2022-10-31T20:12:30.835Z"
   },
   {
    "duration": 52,
    "start_time": "2022-11-01T09:49:40.671Z"
   },
   {
    "duration": 1680,
    "start_time": "2022-11-01T09:49:47.384Z"
   },
   {
    "duration": 1918,
    "start_time": "2022-11-01T09:49:49.066Z"
   },
   {
    "duration": 27,
    "start_time": "2022-11-01T09:49:50.985Z"
   },
   {
    "duration": 19,
    "start_time": "2022-11-01T09:49:51.014Z"
   },
   {
    "duration": 22,
    "start_time": "2022-11-01T09:49:51.034Z"
   },
   {
    "duration": 14,
    "start_time": "2022-11-01T09:49:51.057Z"
   },
   {
    "duration": 22,
    "start_time": "2022-11-01T09:49:51.072Z"
   },
   {
    "duration": 19,
    "start_time": "2022-11-01T09:49:51.124Z"
   },
   {
    "duration": 10,
    "start_time": "2022-11-01T09:49:51.145Z"
   },
   {
    "duration": 8,
    "start_time": "2022-11-01T09:49:51.157Z"
   },
   {
    "duration": 18,
    "start_time": "2022-11-01T09:49:51.166Z"
   },
   {
    "duration": 288,
    "start_time": "2022-11-01T09:49:51.185Z"
   },
   {
    "duration": 30,
    "start_time": "2022-11-01T09:49:52.222Z"
   },
   {
    "duration": 7,
    "start_time": "2022-11-01T09:49:52.995Z"
   },
   {
    "duration": 5,
    "start_time": "2022-11-01T09:49:53.485Z"
   },
   {
    "duration": 3,
    "start_time": "2022-11-01T09:49:54.275Z"
   },
   {
    "duration": 5,
    "start_time": "2022-11-01T09:49:54.483Z"
   },
   {
    "duration": 3,
    "start_time": "2022-11-01T09:49:54.690Z"
   },
   {
    "duration": 3,
    "start_time": "2022-11-01T09:49:54.906Z"
   },
   {
    "duration": 10,
    "start_time": "2022-11-01T09:49:55.089Z"
   },
   {
    "duration": 11,
    "start_time": "2022-11-01T09:49:55.975Z"
   },
   {
    "duration": 12,
    "start_time": "2022-11-01T09:49:56.607Z"
   },
   {
    "duration": 3,
    "start_time": "2022-11-01T09:49:56.821Z"
   },
   {
    "duration": 3583,
    "start_time": "2022-11-01T09:49:58.341Z"
   },
   {
    "duration": 574,
    "start_time": "2022-11-01T09:50:04.142Z"
   },
   {
    "duration": 567,
    "start_time": "2022-11-01T09:51:09.794Z"
   },
   {
    "duration": 9,
    "start_time": "2022-11-01T09:51:10.363Z"
   },
   {
    "duration": 516,
    "start_time": "2022-11-01T09:51:33.281Z"
   },
   {
    "duration": 525,
    "start_time": "2022-11-01T09:51:43.683Z"
   },
   {
    "duration": 789,
    "start_time": "2022-11-01T09:52:01.100Z"
   },
   {
    "duration": 486,
    "start_time": "2022-11-01T09:52:07.382Z"
   },
   {
    "duration": 533,
    "start_time": "2022-11-01T09:52:16.376Z"
   },
   {
    "duration": 514,
    "start_time": "2022-11-01T09:52:26.505Z"
   },
   {
    "duration": 534,
    "start_time": "2022-11-01T09:54:43.197Z"
   },
   {
    "duration": 648,
    "start_time": "2022-11-01T09:54:49.028Z"
   },
   {
    "duration": 535,
    "start_time": "2022-11-01T09:54:56.476Z"
   },
   {
    "duration": 571,
    "start_time": "2022-11-01T09:55:16.262Z"
   },
   {
    "duration": 516,
    "start_time": "2022-11-01T09:55:39.468Z"
   },
   {
    "duration": 521,
    "start_time": "2022-11-01T09:55:55.595Z"
   },
   {
    "duration": 81,
    "start_time": "2022-11-01T09:56:25.579Z"
   },
   {
    "duration": 670,
    "start_time": "2022-11-01T09:56:34.490Z"
   },
   {
    "duration": 641,
    "start_time": "2022-11-01T10:01:04.806Z"
   },
   {
    "duration": 717,
    "start_time": "2022-11-01T13:22:49.592Z"
   },
   {
    "duration": 4,
    "start_time": "2022-11-01T13:23:49.971Z"
   },
   {
    "duration": 77,
    "start_time": "2022-11-01T13:23:51.184Z"
   },
   {
    "duration": 886,
    "start_time": "2022-11-01T13:25:53.436Z"
   },
   {
    "duration": 763,
    "start_time": "2022-11-01T13:26:32.037Z"
   },
   {
    "duration": 806,
    "start_time": "2022-11-01T13:27:02.649Z"
   },
   {
    "duration": 917,
    "start_time": "2022-11-01T13:27:29.840Z"
   },
   {
    "duration": 760,
    "start_time": "2022-11-01T13:27:39.857Z"
   },
   {
    "duration": 865,
    "start_time": "2022-11-01T13:28:18.842Z"
   },
   {
    "duration": 775,
    "start_time": "2022-11-01T13:28:40.901Z"
   },
   {
    "duration": 893,
    "start_time": "2022-11-01T13:28:49.917Z"
   },
   {
    "duration": 1191,
    "start_time": "2022-11-01T13:29:15.327Z"
   },
   {
    "duration": 8,
    "start_time": "2022-11-01T13:29:34.792Z"
   },
   {
    "duration": 1398,
    "start_time": "2022-11-01T13:29:35.233Z"
   },
   {
    "duration": 878,
    "start_time": "2022-11-01T13:30:30.512Z"
   },
   {
    "duration": 778,
    "start_time": "2022-11-01T13:30:48.861Z"
   },
   {
    "duration": 908,
    "start_time": "2022-11-01T13:30:56.934Z"
   },
   {
    "duration": 77,
    "start_time": "2022-11-01T13:32:14.646Z"
   },
   {
    "duration": 10,
    "start_time": "2022-11-01T13:33:06.616Z"
   },
   {
    "duration": 4,
    "start_time": "2022-11-01T13:33:15.444Z"
   },
   {
    "duration": 742,
    "start_time": "2022-11-01T13:33:16.144Z"
   },
   {
    "duration": 35,
    "start_time": "2022-11-01T13:33:16.888Z"
   },
   {
    "duration": 17,
    "start_time": "2022-11-01T13:33:16.925Z"
   },
   {
    "duration": 29,
    "start_time": "2022-11-01T13:33:16.944Z"
   },
   {
    "duration": 19,
    "start_time": "2022-11-01T13:33:16.974Z"
   },
   {
    "duration": 22,
    "start_time": "2022-11-01T13:33:17.068Z"
   },
   {
    "duration": 19,
    "start_time": "2022-11-01T13:33:17.243Z"
   },
   {
    "duration": 10,
    "start_time": "2022-11-01T13:33:17.997Z"
   },
   {
    "duration": 9,
    "start_time": "2022-11-01T13:33:18.193Z"
   },
   {
    "duration": 10,
    "start_time": "2022-11-01T13:33:18.375Z"
   },
   {
    "duration": 242,
    "start_time": "2022-11-01T13:33:18.791Z"
   },
   {
    "duration": 29,
    "start_time": "2022-11-01T13:33:19.177Z"
   },
   {
    "duration": 7,
    "start_time": "2022-11-01T13:33:19.788Z"
   },
   {
    "duration": 5,
    "start_time": "2022-11-01T13:33:20.209Z"
   },
   {
    "duration": 3,
    "start_time": "2022-11-01T13:33:21.035Z"
   },
   {
    "duration": 4,
    "start_time": "2022-11-01T13:33:21.253Z"
   },
   {
    "duration": 3,
    "start_time": "2022-11-01T13:33:21.469Z"
   },
   {
    "duration": 3,
    "start_time": "2022-11-01T13:33:21.791Z"
   },
   {
    "duration": 14,
    "start_time": "2022-11-01T13:33:22.042Z"
   },
   {
    "duration": 11,
    "start_time": "2022-11-01T13:33:22.891Z"
   },
   {
    "duration": 11,
    "start_time": "2022-11-01T13:33:23.548Z"
   },
   {
    "duration": 4,
    "start_time": "2022-11-01T13:33:23.759Z"
   },
   {
    "duration": 3276,
    "start_time": "2022-11-01T13:33:24.825Z"
   },
   {
    "duration": 557,
    "start_time": "2022-11-01T13:33:28.104Z"
   },
   {
    "duration": 953,
    "start_time": "2022-11-01T13:33:28.663Z"
   },
   {
    "duration": 8,
    "start_time": "2022-11-01T13:33:29.623Z"
   },
   {
    "duration": 1303,
    "start_time": "2022-11-01T13:33:29.937Z"
   },
   {
    "duration": 23,
    "start_time": "2022-11-01T13:33:35.347Z"
   },
   {
    "duration": 5,
    "start_time": "2022-11-01T13:33:37.553Z"
   },
   {
    "duration": 3,
    "start_time": "2022-11-01T13:33:37.811Z"
   },
   {
    "duration": 3,
    "start_time": "2022-11-01T13:33:39.031Z"
   },
   {
    "duration": 3,
    "start_time": "2022-11-01T13:33:39.112Z"
   },
   {
    "duration": 68,
    "start_time": "2022-11-01T13:33:59.896Z"
   },
   {
    "duration": 736,
    "start_time": "2022-11-01T13:35:14.812Z"
   },
   {
    "duration": 80,
    "start_time": "2022-11-01T13:40:13.008Z"
   },
   {
    "duration": 1999,
    "start_time": "2022-11-01T19:07:59.578Z"
   },
   {
    "duration": 2276,
    "start_time": "2022-11-01T19:08:01.580Z"
   },
   {
    "duration": 34,
    "start_time": "2022-11-01T19:08:03.858Z"
   },
   {
    "duration": 27,
    "start_time": "2022-11-01T19:08:03.896Z"
   },
   {
    "duration": 39,
    "start_time": "2022-11-01T19:08:03.925Z"
   },
   {
    "duration": 18,
    "start_time": "2022-11-01T19:08:03.966Z"
   },
   {
    "duration": 62,
    "start_time": "2022-11-01T19:08:03.986Z"
   },
   {
    "duration": 28,
    "start_time": "2022-11-01T19:08:04.050Z"
   },
   {
    "duration": 17,
    "start_time": "2022-11-01T19:08:04.080Z"
   },
   {
    "duration": 35,
    "start_time": "2022-11-01T19:08:04.101Z"
   },
   {
    "duration": 17,
    "start_time": "2022-11-01T19:08:04.139Z"
   },
   {
    "duration": 393,
    "start_time": "2022-11-01T19:08:04.158Z"
   },
   {
    "duration": 43,
    "start_time": "2022-11-01T19:08:04.554Z"
   },
   {
    "duration": 10,
    "start_time": "2022-11-01T19:08:04.600Z"
   },
   {
    "duration": 8,
    "start_time": "2022-11-01T19:08:04.631Z"
   },
   {
    "duration": 3,
    "start_time": "2022-11-01T19:08:05.373Z"
   },
   {
    "duration": 6,
    "start_time": "2022-11-01T19:08:05.572Z"
   },
   {
    "duration": 4,
    "start_time": "2022-11-01T19:08:05.772Z"
   },
   {
    "duration": 4,
    "start_time": "2022-11-01T19:08:05.974Z"
   },
   {
    "duration": 14,
    "start_time": "2022-11-01T19:08:06.205Z"
   },
   {
    "duration": 21,
    "start_time": "2022-11-01T19:08:07.027Z"
   },
   {
    "duration": 16,
    "start_time": "2022-11-01T19:08:07.655Z"
   },
   {
    "duration": 4,
    "start_time": "2022-11-01T19:08:07.853Z"
   },
   {
    "duration": 4293,
    "start_time": "2022-11-01T19:08:08.905Z"
   },
   {
    "duration": 635,
    "start_time": "2022-11-01T19:08:13.200Z"
   },
   {
    "duration": 961,
    "start_time": "2022-11-01T19:08:13.838Z"
   },
   {
    "duration": 9,
    "start_time": "2022-11-01T19:08:14.802Z"
   },
   {
    "duration": 2045,
    "start_time": "2022-11-01T19:08:14.813Z"
   },
   {
    "duration": 42,
    "start_time": "2022-11-01T19:08:16.860Z"
   },
   {
    "duration": 4,
    "start_time": "2022-11-01T19:08:16.904Z"
   },
   {
    "duration": 22,
    "start_time": "2022-11-01T19:08:16.910Z"
   },
   {
    "duration": 5,
    "start_time": "2022-11-01T19:08:16.936Z"
   },
   {
    "duration": 3,
    "start_time": "2022-11-01T19:08:16.944Z"
   },
   {
    "duration": 11,
    "start_time": "2022-11-01T19:08:17.948Z"
   },
   {
    "duration": 11,
    "start_time": "2022-11-01T19:08:18.900Z"
   },
   {
    "duration": 4,
    "start_time": "2022-11-01T19:08:19.539Z"
   },
   {
    "duration": 4939,
    "start_time": "2022-11-01T19:08:20.394Z"
   },
   {
    "duration": 7,
    "start_time": "2022-11-01T19:08:25.335Z"
   },
   {
    "duration": 44396,
    "start_time": "2022-11-01T19:08:25.347Z"
   },
   {
    "duration": 1577,
    "start_time": "2022-11-01T19:16:47.826Z"
   },
   {
    "duration": 736,
    "start_time": "2022-11-01T19:16:49.406Z"
   },
   {
    "duration": 28,
    "start_time": "2022-11-01T19:16:50.143Z"
   },
   {
    "duration": 19,
    "start_time": "2022-11-01T19:16:50.173Z"
   },
   {
    "duration": 54,
    "start_time": "2022-11-01T19:16:50.195Z"
   },
   {
    "duration": 21,
    "start_time": "2022-11-01T19:16:50.251Z"
   },
   {
    "duration": 56,
    "start_time": "2022-11-01T19:16:50.275Z"
   },
   {
    "duration": 18,
    "start_time": "2022-11-01T19:16:50.333Z"
   },
   {
    "duration": 9,
    "start_time": "2022-11-01T19:16:50.353Z"
   },
   {
    "duration": 12,
    "start_time": "2022-11-01T19:16:50.364Z"
   },
   {
    "duration": 12,
    "start_time": "2022-11-01T19:16:50.378Z"
   },
   {
    "duration": 296,
    "start_time": "2022-11-01T19:16:50.392Z"
   },
   {
    "duration": 46,
    "start_time": "2022-11-01T19:16:50.690Z"
   },
   {
    "duration": 7,
    "start_time": "2022-11-01T19:16:50.740Z"
   },
   {
    "duration": 5,
    "start_time": "2022-11-01T19:16:50.749Z"
   },
   {
    "duration": 7,
    "start_time": "2022-11-01T19:16:50.755Z"
   },
   {
    "duration": 8,
    "start_time": "2022-11-01T19:16:50.764Z"
   },
   {
    "duration": 9,
    "start_time": "2022-11-01T19:16:50.774Z"
   },
   {
    "duration": 10,
    "start_time": "2022-11-01T19:16:50.784Z"
   },
   {
    "duration": 40,
    "start_time": "2022-11-01T19:16:50.796Z"
   },
   {
    "duration": 11,
    "start_time": "2022-11-01T19:16:50.838Z"
   },
   {
    "duration": 13,
    "start_time": "2022-11-01T19:16:50.851Z"
   },
   {
    "duration": 4,
    "start_time": "2022-11-01T19:16:50.866Z"
   },
   {
    "duration": 3854,
    "start_time": "2022-11-01T19:16:50.872Z"
   },
   {
    "duration": 637,
    "start_time": "2022-11-01T19:16:54.729Z"
   },
   {
    "duration": 905,
    "start_time": "2022-11-01T19:16:55.369Z"
   },
   {
    "duration": 9,
    "start_time": "2022-11-01T19:16:56.276Z"
   },
   {
    "duration": 1765,
    "start_time": "2022-11-01T19:16:56.287Z"
   },
   {
    "duration": 46,
    "start_time": "2022-11-01T19:16:58.054Z"
   },
   {
    "duration": 6,
    "start_time": "2022-11-01T19:16:58.103Z"
   },
   {
    "duration": 23,
    "start_time": "2022-11-01T19:16:58.113Z"
   },
   {
    "duration": 5,
    "start_time": "2022-11-01T19:16:58.139Z"
   },
   {
    "duration": 7,
    "start_time": "2022-11-01T19:16:58.146Z"
   },
   {
    "duration": 9,
    "start_time": "2022-11-01T19:16:58.156Z"
   },
   {
    "duration": 11,
    "start_time": "2022-11-01T19:16:58.168Z"
   },
   {
    "duration": 5,
    "start_time": "2022-11-01T19:16:58.181Z"
   },
   {
    "duration": 4657,
    "start_time": "2022-11-01T19:16:58.189Z"
   },
   {
    "duration": 6,
    "start_time": "2022-11-01T19:17:02.933Z"
   },
   {
    "duration": 42717,
    "start_time": "2022-11-01T19:17:02.941Z"
   },
   {
    "duration": 11573,
    "start_time": "2022-11-01T19:17:45.660Z"
   },
   {
    "duration": 5,
    "start_time": "2022-11-01T19:17:57.239Z"
   },
   {
    "duration": 14,
    "start_time": "2022-11-01T19:17:57.246Z"
   },
   {
    "duration": 0,
    "start_time": "2022-11-01T19:17:57.262Z"
   },
   {
    "duration": 0,
    "start_time": "2022-11-01T19:17:57.264Z"
   },
   {
    "duration": 1,
    "start_time": "2022-11-01T19:17:57.265Z"
   },
   {
    "duration": 0,
    "start_time": "2022-11-01T19:17:57.267Z"
   },
   {
    "duration": 0,
    "start_time": "2022-11-01T19:17:57.268Z"
   },
   {
    "duration": 4,
    "start_time": "2022-11-01T19:18:23.621Z"
   },
   {
    "duration": 3,
    "start_time": "2022-11-01T19:18:27.708Z"
   },
   {
    "duration": 8,
    "start_time": "2022-11-01T19:18:28.603Z"
   },
   {
    "duration": 3,
    "start_time": "2022-11-01T19:18:29.262Z"
   },
   {
    "duration": 6838,
    "start_time": "2022-11-01T19:18:30.199Z"
   },
   {
    "duration": 5,
    "start_time": "2022-11-01T19:18:37.041Z"
   },
   {
    "duration": 43712,
    "start_time": "2022-11-01T19:18:37.049Z"
   },
   {
    "duration": 2713,
    "start_time": "2022-11-02T11:00:36.918Z"
   },
   {
    "duration": 2826,
    "start_time": "2022-11-02T11:00:39.633Z"
   },
   {
    "duration": 25,
    "start_time": "2022-11-02T11:00:42.461Z"
   },
   {
    "duration": 26,
    "start_time": "2022-11-02T11:00:42.488Z"
   },
   {
    "duration": 21,
    "start_time": "2022-11-02T11:00:42.516Z"
   },
   {
    "duration": 22,
    "start_time": "2022-11-02T11:00:42.539Z"
   },
   {
    "duration": 20,
    "start_time": "2022-11-02T11:00:42.563Z"
   },
   {
    "duration": 36,
    "start_time": "2022-11-02T11:00:42.585Z"
   },
   {
    "duration": 9,
    "start_time": "2022-11-02T11:00:42.623Z"
   },
   {
    "duration": 10,
    "start_time": "2022-11-02T11:00:42.634Z"
   },
   {
    "duration": 16,
    "start_time": "2022-11-02T11:00:42.646Z"
   },
   {
    "duration": 271,
    "start_time": "2022-11-02T11:00:42.664Z"
   },
   {
    "duration": 29,
    "start_time": "2022-11-02T11:00:42.936Z"
   },
   {
    "duration": 6,
    "start_time": "2022-11-02T11:00:42.968Z"
   },
   {
    "duration": 26,
    "start_time": "2022-11-02T11:00:42.975Z"
   },
   {
    "duration": 7,
    "start_time": "2022-11-02T11:00:43.002Z"
   },
   {
    "duration": 10,
    "start_time": "2022-11-02T11:00:43.011Z"
   },
   {
    "duration": 5,
    "start_time": "2022-11-02T11:00:43.023Z"
   },
   {
    "duration": 8,
    "start_time": "2022-11-02T11:00:43.029Z"
   },
   {
    "duration": 12,
    "start_time": "2022-11-02T11:00:43.039Z"
   },
   {
    "duration": 12,
    "start_time": "2022-11-02T11:00:43.053Z"
   },
   {
    "duration": 12,
    "start_time": "2022-11-02T11:00:43.066Z"
   },
   {
    "duration": 29,
    "start_time": "2022-11-02T11:00:43.080Z"
   },
   {
    "duration": 3044,
    "start_time": "2022-11-02T11:00:43.112Z"
   },
   {
    "duration": 514,
    "start_time": "2022-11-02T11:00:46.158Z"
   },
   {
    "duration": 787,
    "start_time": "2022-11-02T11:00:46.674Z"
   },
   {
    "duration": 7,
    "start_time": "2022-11-02T11:00:47.462Z"
   },
   {
    "duration": 984,
    "start_time": "2022-11-02T11:00:47.470Z"
   },
   {
    "duration": 27,
    "start_time": "2022-11-02T11:00:48.455Z"
   },
   {
    "duration": 3,
    "start_time": "2022-11-02T11:00:48.483Z"
   },
   {
    "duration": 11,
    "start_time": "2022-11-02T11:00:48.487Z"
   },
   {
    "duration": 4,
    "start_time": "2022-11-02T11:00:48.509Z"
   },
   {
    "duration": 5,
    "start_time": "2022-11-02T11:00:48.514Z"
   },
   {
    "duration": 6,
    "start_time": "2022-11-02T11:00:48.520Z"
   },
   {
    "duration": 14,
    "start_time": "2022-11-02T11:00:48.527Z"
   },
   {
    "duration": 12,
    "start_time": "2022-11-02T11:00:48.542Z"
   },
   {
    "duration": 3754,
    "start_time": "2022-11-02T11:00:48.555Z"
   },
   {
    "duration": 3,
    "start_time": "2022-11-02T11:00:52.311Z"
   },
   {
    "duration": 38385,
    "start_time": "2022-11-02T11:01:02.209Z"
   },
   {
    "duration": 3,
    "start_time": "2022-11-02T11:02:04.643Z"
   },
   {
    "duration": 5,
    "start_time": "2022-11-02T11:02:09.878Z"
   },
   {
    "duration": 3247,
    "start_time": "2022-11-02T11:02:10.853Z"
   },
   {
    "duration": 0,
    "start_time": "2022-11-02T11:02:14.101Z"
   },
   {
    "duration": 7,
    "start_time": "2022-11-02T11:02:56.337Z"
   },
   {
    "duration": 16,
    "start_time": "2022-11-02T11:03:43.268Z"
   },
   {
    "duration": 2036,
    "start_time": "2022-11-02T11:06:12.230Z"
   },
   {
    "duration": 703,
    "start_time": "2022-11-02T11:06:14.268Z"
   },
   {
    "duration": 24,
    "start_time": "2022-11-02T11:06:14.973Z"
   },
   {
    "duration": 25,
    "start_time": "2022-11-02T11:06:14.999Z"
   },
   {
    "duration": 18,
    "start_time": "2022-11-02T11:06:15.027Z"
   },
   {
    "duration": 20,
    "start_time": "2022-11-02T11:06:15.047Z"
   },
   {
    "duration": 41,
    "start_time": "2022-11-02T11:06:15.069Z"
   },
   {
    "duration": 18,
    "start_time": "2022-11-02T11:06:15.112Z"
   },
   {
    "duration": 9,
    "start_time": "2022-11-02T11:06:15.132Z"
   },
   {
    "duration": 12,
    "start_time": "2022-11-02T11:06:15.143Z"
   },
   {
    "duration": 20,
    "start_time": "2022-11-02T11:06:15.156Z"
   },
   {
    "duration": 277,
    "start_time": "2022-11-02T11:06:15.178Z"
   },
   {
    "duration": 26,
    "start_time": "2022-11-02T11:06:15.457Z"
   },
   {
    "duration": 5,
    "start_time": "2022-11-02T11:06:15.486Z"
   },
   {
    "duration": 18,
    "start_time": "2022-11-02T11:06:15.493Z"
   },
   {
    "duration": 4,
    "start_time": "2022-11-02T11:06:15.513Z"
   },
   {
    "duration": 6,
    "start_time": "2022-11-02T11:06:15.519Z"
   },
   {
    "duration": 6,
    "start_time": "2022-11-02T11:06:15.527Z"
   },
   {
    "duration": 7,
    "start_time": "2022-11-02T11:06:15.534Z"
   },
   {
    "duration": 13,
    "start_time": "2022-11-02T11:06:15.543Z"
   },
   {
    "duration": 12,
    "start_time": "2022-11-02T11:06:15.557Z"
   },
   {
    "duration": 38,
    "start_time": "2022-11-02T11:06:15.571Z"
   },
   {
    "duration": 3,
    "start_time": "2022-11-02T11:06:15.611Z"
   },
   {
    "duration": 3036,
    "start_time": "2022-11-02T11:06:15.616Z"
   },
   {
    "duration": 496,
    "start_time": "2022-11-02T11:06:18.654Z"
   },
   {
    "duration": 654,
    "start_time": "2022-11-02T11:06:19.152Z"
   },
   {
    "duration": 7,
    "start_time": "2022-11-02T11:06:19.809Z"
   },
   {
    "duration": 1149,
    "start_time": "2022-11-02T11:06:19.818Z"
   },
   {
    "duration": 41,
    "start_time": "2022-11-02T11:06:20.969Z"
   },
   {
    "duration": 2,
    "start_time": "2022-11-02T11:06:21.012Z"
   },
   {
    "duration": 6,
    "start_time": "2022-11-02T11:06:21.016Z"
   },
   {
    "duration": 5,
    "start_time": "2022-11-02T11:06:21.024Z"
   },
   {
    "duration": 6,
    "start_time": "2022-11-02T11:06:21.030Z"
   },
   {
    "duration": 9,
    "start_time": "2022-11-02T11:06:21.037Z"
   },
   {
    "duration": 15,
    "start_time": "2022-11-02T11:06:21.048Z"
   },
   {
    "duration": 7,
    "start_time": "2022-11-02T11:06:21.065Z"
   },
   {
    "duration": 3,
    "start_time": "2022-11-02T11:06:27.778Z"
   },
   {
    "duration": 38306,
    "start_time": "2022-11-02T11:06:50.923Z"
   },
   {
    "duration": 4,
    "start_time": "2022-11-02T11:07:59.748Z"
   },
   {
    "duration": 3293,
    "start_time": "2022-11-02T11:08:00.688Z"
   },
   {
    "duration": 5,
    "start_time": "2022-11-02T11:09:00.877Z"
   },
   {
    "duration": 2105,
    "start_time": "2022-11-02T11:10:31.979Z"
   },
   {
    "duration": 745,
    "start_time": "2022-11-02T11:10:34.087Z"
   },
   {
    "duration": 24,
    "start_time": "2022-11-02T11:10:34.833Z"
   },
   {
    "duration": 18,
    "start_time": "2022-11-02T11:10:34.859Z"
   },
   {
    "duration": 34,
    "start_time": "2022-11-02T11:10:34.880Z"
   },
   {
    "duration": 23,
    "start_time": "2022-11-02T11:10:34.916Z"
   },
   {
    "duration": 38,
    "start_time": "2022-11-02T11:10:34.941Z"
   },
   {
    "duration": 28,
    "start_time": "2022-11-02T11:10:34.981Z"
   },
   {
    "duration": 15,
    "start_time": "2022-11-02T11:10:35.012Z"
   },
   {
    "duration": 15,
    "start_time": "2022-11-02T11:10:35.028Z"
   },
   {
    "duration": 32,
    "start_time": "2022-11-02T11:10:35.044Z"
   },
   {
    "duration": 289,
    "start_time": "2022-11-02T11:10:35.078Z"
   },
   {
    "duration": 25,
    "start_time": "2022-11-02T11:10:35.369Z"
   },
   {
    "duration": 6,
    "start_time": "2022-11-02T11:10:35.408Z"
   },
   {
    "duration": 22,
    "start_time": "2022-11-02T11:10:35.416Z"
   },
   {
    "duration": 20,
    "start_time": "2022-11-02T11:10:35.440Z"
   },
   {
    "duration": 12,
    "start_time": "2022-11-02T11:10:35.461Z"
   },
   {
    "duration": 27,
    "start_time": "2022-11-02T11:10:35.475Z"
   },
   {
    "duration": 17,
    "start_time": "2022-11-02T11:10:35.504Z"
   },
   {
    "duration": 16,
    "start_time": "2022-11-02T11:10:35.522Z"
   },
   {
    "duration": 20,
    "start_time": "2022-11-02T11:10:35.539Z"
   },
   {
    "duration": 23,
    "start_time": "2022-11-02T11:10:35.560Z"
   },
   {
    "duration": 17,
    "start_time": "2022-11-02T11:10:35.584Z"
   },
   {
    "duration": 3033,
    "start_time": "2022-11-02T11:10:35.603Z"
   },
   {
    "duration": 503,
    "start_time": "2022-11-02T11:10:38.638Z"
   },
   {
    "duration": 652,
    "start_time": "2022-11-02T11:10:39.143Z"
   },
   {
    "duration": 15,
    "start_time": "2022-11-02T11:10:39.797Z"
   },
   {
    "duration": 1256,
    "start_time": "2022-11-02T11:10:39.814Z"
   },
   {
    "duration": 40,
    "start_time": "2022-11-02T11:10:41.072Z"
   },
   {
    "duration": 3,
    "start_time": "2022-11-02T11:10:41.114Z"
   },
   {
    "duration": 39,
    "start_time": "2022-11-02T11:10:41.118Z"
   },
   {
    "duration": 26,
    "start_time": "2022-11-02T11:10:41.158Z"
   },
   {
    "duration": 24,
    "start_time": "2022-11-02T11:10:41.186Z"
   },
   {
    "duration": 31,
    "start_time": "2022-11-02T11:10:41.212Z"
   },
   {
    "duration": 53,
    "start_time": "2022-11-02T11:10:41.246Z"
   },
   {
    "duration": 20,
    "start_time": "2022-11-02T11:10:41.300Z"
   },
   {
    "duration": 173,
    "start_time": "2022-11-02T11:11:08.760Z"
   },
   {
    "duration": 3,
    "start_time": "2022-11-02T11:11:13.859Z"
   },
   {
    "duration": 23950,
    "start_time": "2022-11-02T11:11:19.344Z"
   },
   {
    "duration": 5,
    "start_time": "2022-11-02T11:11:59.828Z"
   },
   {
    "duration": 3978,
    "start_time": "2022-11-02T11:12:00.658Z"
   },
   {
    "duration": 5,
    "start_time": "2022-11-02T11:12:07.928Z"
   },
   {
    "duration": 9,
    "start_time": "2022-11-02T11:12:09.948Z"
   },
   {
    "duration": 4,
    "start_time": "2022-11-02T11:12:11.912Z"
   }
  ],
  "kernelspec": {
   "display_name": "Python 3 (ipykernel)",
   "language": "python",
   "name": "python3"
  },
  "language_info": {
   "codemirror_mode": {
    "name": "ipython",
    "version": 3
   },
   "file_extension": ".py",
   "mimetype": "text/x-python",
   "name": "python",
   "nbconvert_exporter": "python",
   "pygments_lexer": "ipython3",
   "version": "3.9.5"
  },
  "toc": {
   "base_numbering": 1,
   "nav_menu": {},
   "number_sections": true,
   "sideBar": true,
   "skip_h1_title": true,
   "title_cell": "Содержание",
   "title_sidebar": "Contents",
   "toc_cell": true,
   "toc_position": {},
   "toc_section_display": true,
   "toc_window_display": true
  }
 },
 "nbformat": 4,
 "nbformat_minor": 2
}
